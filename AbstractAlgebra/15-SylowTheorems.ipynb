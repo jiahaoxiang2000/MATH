{
 "cells": [
  {
   "cell_type": "markdown",
   "metadata": {},
   "source": [
    "### 15.1 The Sylow Theorems\n",
    "\n",
    "A group $G$ is a $p$-**group** if every element in $G$ has as its order a power of $p$, where $p$ is a prime number."
   ]
  },
  {
   "cell_type": "markdown",
   "metadata": {},
   "source": [
    "**Theorem 15.1 (Cauchy)** Let $G$ be a finite group and $p$ a prime such that $p$ divides the order of $G$. Then $G$ contains a subgroup of order $p$."
   ]
  },
  {
   "cell_type": "markdown",
   "metadata": {
    "vscode": {
     "languageId": "plaintext"
    }
   },
   "source": [
    "**Corollary 15.2** Let $G$ be a finite group. Then $G$ is a $p$-group if and only if $|G| = p^n$."
   ]
  },
  {
   "cell_type": "markdown",
   "metadata": {
    "vscode": {
     "languageId": "plaintext"
    }
   },
   "source": [
    "**Theorem 15.4 (First Sylow Theorem)** Let $G$ be a finite group and $p$ a prime such that $p^r$ divides $|G|$. Then $G$ contains a subgroup of order $p^r$."
   ]
  }
 ],
 "metadata": {
  "language_info": {
   "name": "python"
  }
 },
 "nbformat": 4,
 "nbformat_minor": 2
}
