{
 "cells": [
  {
   "cell_type": "markdown",
   "metadata": {},
   "source": [
    "## 2.1 Mathematical Induction\n",
    "\n",
    "**Principle 2.1 First Principle of Mathematical Induction.** Let $S(n)$ be a statement about integers for $n \\in \\mathbb{N}$ and suppose $S(n_0)$ is true for some integer $n_0$. If for all integers $k$ with $k \\geq n_0$, $S(k)$ implies that $S(k + 1)$ is true, then $S(n)$ is true for all integers $n$ greater than or equal to $n_0$."
   ]
  }
 ],
 "metadata": {
  "kernelspec": {
   "display_name": "SageMath 10.2",
   "language": "sage",
   "name": "sagemath"
  },
  "language_info": {
   "codemirror_mode": {
    "name": "ipython",
    "version": 3
   },
   "file_extension": ".py",
   "mimetype": "text/x-python",
   "name": "sage",
   "nbconvert_exporter": "python",
   "pygments_lexer": "ipython3",
   "version": "3.11.8"
  }
 },
 "nbformat": 4,
 "nbformat_minor": 2
}
