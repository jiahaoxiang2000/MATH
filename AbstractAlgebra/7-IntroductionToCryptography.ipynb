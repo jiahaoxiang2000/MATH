{
 "cells": [
  {
   "cell_type": "markdown",
   "metadata": {},
   "source": [
    "### 7.1 Private Key Cryptography\n",
    "\n",
    "In **single** or **private key** cryptosystems the same key is used for both encrypting and decrypting messages."
   ]
  },
  {
   "cell_type": "markdown",
   "metadata": {},
   "source": [
    "**Cryptanalysis** is concerned with deciphering a received or intercepted message. Methods from probability and statistics are great aids in deciphering an intercepted message; for example, the frequency analysis of the characters appearing in the intercepted message often makes its decryption possible."
   ]
  },
  {
   "cell_type": "markdown",
   "metadata": {},
   "source": [
    "Let us investigate a slightly more sophisticated cryptosystem. Suppose that the encoding\n",
    "function is given by\n",
    "$$\n",
    "f(p) = ap + b \\mod 26, \\\\\n",
    "f^{-1}(c) = a^{-1}(c - b) \\mod 26, \\\\\n",
    "\\text{when } gcd(a, 26) = 1.\n",
    "$$\n",
    "\n",
    "Such a cryptosystem is called an **affine cryptosystem**."
   ]
  },
  {
   "cell_type": "markdown",
   "metadata": {},
   "source": [
    "A cryptosystem would be more secure if a ciphertext letter could represent more than one plaintext letter. To give an example of this type of cryptosystem, called a **polyalphabetic cryptosystem**, we will generalize affine codes by using matrices. The idea works roughly the same as before; however, instead of encrypting one letter at a time we will encrypt pairs of\n",
    "letters. We can store a pair of letters $p_1$ and $p_2$ in a vector\n",
    "$$\n",
    "\\mathbf{p} =\n",
    "\\begin{pmatrix}\n",
    "p_1 \\\\\n",
    "p_2\n",
    "\\end{pmatrix}\n",
    ".\n",
    "$$\n",
    "Let $A$ be a $2 \\times 2$ invertible matrix with entries in $\\mathbb{Z}_{26}$. We can define an encoding function\n",
    "by\n",
    "$$\n",
    "f(\\mathbf{p}) = A\\mathbf{p} + \\mathbf{b},\n",
    "$$\n",
    "where $\\mathbf{b}$ is a fixed column vector and matrix operations are performed in $\\mathbb{Z}_{26}$. The decoding\n",
    "function must be\n",
    "$$\n",
    "f^{-1}(\\mathbf{p}) = A^{-1}\\mathbf{p} - A^{-1}\\mathbf{b}.\n",
    "$$"
   ]
  },
  {
   "cell_type": "markdown",
   "metadata": {
    "vscode": {
     "languageId": "plaintext"
    }
   },
   "source": [
    "### 7.2 Public Key Cryptography\n",
    "\n",
    "The encoding function $f$ must be relatively easy to compute, but $f^{−1}$ must be extremely difficult to compute without some additional information, so that someone who knows only the encrypting key cannot find the decrypting key without prohibitive computation."
   ]
  },
  {
   "cell_type": "markdown",
   "metadata": {
    "vscode": {
     "languageId": "plaintext"
    }
   },
   "source": [
    "**Message Verification**\n",
    "\n",
    "Suppose that Bob’s encrypting key is $(n', E')$ and his decrypting\n",
    "key is $(n', D')$. Also, suppose that Alice’s encrypting key is $(n, E)$ and her decrypting key is\n",
    "$(n, D)$. Since encryption keys are public information, they can exchange coded messages at\n",
    "their convenience. Bob wishes to assure Alice that the message he is sending is authentic.\n",
    "Before Bob sends the message $x$ to Alice, he decrypts $x$ with his own key:\n",
    "$$\n",
    "x' = x^{D'} \\mod n'.\n",
    "$$\n",
    "Anyone can change $x'$ back to $x$ just by encryption, but only Bob has the ability to form\n",
    "$x'$. Now Bob encrypts $x'$ with Alice’s encryption key to form\n",
    "$$\n",
    "y' = {x'}^E \\mod n,\n",
    "$$\n",
    "a message that only Alice can decode. Alice decodes the message and then encodes the\n",
    "result with Bob’s key to read the original message, a message that could have only been\n",
    "sent by Bob.\n"
   ]
  }
 ],
 "metadata": {
  "kernelspec": {
   "display_name": "SageMath 10.2",
   "language": "sage",
   "name": "sagemath"
  },
  "language_info": {
   "name": "sage"
  }
 },
 "nbformat": 4,
 "nbformat_minor": 2
}
