{
 "cells": [
  {
   "cell_type": "markdown",
   "metadata": {},
   "source": [
    "### 15.1 The Sylow Theorems\n",
    "\n",
    "A group $G$ is a $p$-**group** if every element in $G$ has as its order a power of $p$, where $p$ is a prime number."
   ]
  },
  {
   "cell_type": "markdown",
   "metadata": {},
   "source": [
    "**Theorem 15.1 (Cauchy)** Let $G$ be a finite group and $p$ a prime such that $p$ divides the order of $G$. Then $G$ contains a subgroup of order $p$."
   ]
  },
  {
   "cell_type": "markdown",
   "metadata": {
    "vscode": {
     "languageId": "plaintext"
    }
   },
   "source": [
    "**Corollary 15.2** Let $G$ be a finite group. Then $G$ is a $p$-group if and only if $|G| = p^n$."
   ]
  },
  {
   "cell_type": "markdown",
   "metadata": {
    "vscode": {
     "languageId": "plaintext"
    }
   },
   "source": [
    "**Theorem 15.4 (First Sylow Theorem)** Let $G$ be a finite group and $p$ a prime such that $p^r$ divides $|G|$. Then $G$ contains a subgroup of order $p^r$."
   ]
  },
  {
   "cell_type": "markdown",
   "metadata": {
    "vscode": {
     "languageId": "plaintext"
    }
   },
   "source": [
    "**Lemma 15.5** Let $P$ be a Sylow $p$-subgroup of a finite group $G$ and let $x$ have as its order a power of $p$. If $x^{-1}Px = P$, then $x \\in P$."
   ]
  },
  {
   "cell_type": "markdown",
   "metadata": {
    "vscode": {
     "languageId": "plaintext"
    }
   },
   "source": [
    "**Lemma 15.6** Let $H$ and $K$ be subgroups of $G$. The number of distinct $H$-conjugates of $K$ is $[H : N(K) \\cap H]$."
   ]
  },
  {
   "cell_type": "markdown",
   "metadata": {
    "vscode": {
     "languageId": "plaintext"
    }
   },
   "source": [
    "**Theorem 15.7 (Second Sylow Theorem)** Let $G$ be a finite group and $p$ a prime dividing $|G|$. Then all Sylow $p$-subgroups of $G$ are conjugate. That is, if $P_1$ and $P_2$ are two Sylow $p$-subgroups, there exists a $g \\in G$ such that $gP_1g^{-1} = P_2$."
   ]
  },
  {
   "cell_type": "markdown",
   "metadata": {},
   "source": [
    "**Theorem 15.8 (Third Sylow Theorem)** Let $G$ be a finite group and let $p$ be a prime dividing the order of $G$. Then the number of Sylow $p$-subgroups is congruent to $1 \\pmod{p}$ and divides $|G|$."
   ]
  },
  {
   "cell_type": "markdown",
   "metadata": {
    "vscode": {
     "languageId": "plaintext"
    }
   },
   "source": [
    "**Theorem 15.10** If $p$ and $q$ are distinct primes with $p < q$, then every group $G$ of order $pq$ has a single subgroup of order $q$ and this subgroup is normal in $G$. Hence, $G$ cannot be simple. Furthermore, if $q \\not\\equiv 1 \\pmod{p}$, then $G$ is cyclic."
   ]
  }
 ],
 "metadata": {
  "language_info": {
   "name": "python"
  }
 },
 "nbformat": 4,
 "nbformat_minor": 2
}
