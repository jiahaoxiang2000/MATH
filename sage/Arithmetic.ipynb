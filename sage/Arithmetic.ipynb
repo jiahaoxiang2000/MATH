{
 "cells": [
  {
   "cell_type": "code",
   "execution_count": 7,
   "metadata": {
    "vscode": {
     "languageId": "python"
    }
   },
   "outputs": [
    {
     "data": {
      "text/plain": [
       "True"
      ]
     },
     "execution_count": 7,
     "metadata": {},
     "output_type": "execute_result"
    }
   ],
   "source": [
    "from sage.all import *\n",
    "\n",
    "# comparison relations\n",
    "Integer(2) == Integer(2)\n",
    "Integer(2) < Integer(3)\n",
    "Integer(2) > Integer(1)"
   ]
  },
  {
   "cell_type": "code",
   "execution_count": 8,
   "metadata": {
    "vscode": {
     "languageId": "python"
    }
   },
   "outputs": [
    {
     "data": {
      "text/plain": [
       "2"
      ]
     },
     "execution_count": 8,
     "metadata": {},
     "output_type": "execute_result"
    }
   ],
   "source": [
    "# arithmetic operators\n",
    "Integer(2) ** Integer(3)  #  ** means exponent\n",
    "Integer(10) % Integer(3)  #  for integer arguments, % means mod, i.e., remainder\n",
    "Integer(10) / Integer(3)\n",
    "Integer(10) // Integer(4)  #  for integer arguments, // returns the integer quotient"
   ]
  },
  {
   "cell_type": "code",
   "execution_count": 19,
   "metadata": {
    "vscode": {
     "languageId": "python"
    }
   },
   "outputs": [
    {
     "data": {
      "text/plain": [
       "3.1415926535897932384626433832795028841971693993751058209749"
      ]
     },
     "execution_count": 19,
     "metadata": {},
     "output_type": "execute_result"
    }
   ],
   "source": [
    "# some extend familiar mathematical functions\n",
    "sqrt(RealNumber(\"3.4\"))\n",
    "sin(RealNumber(\"5.135\"))\n",
    "sin(pi / Integer(3))\n",
    "exp(Integer(2))\n",
    "n(exp(Integer(2)))\n",
    "sin(Integer(10)).n(digits=Integer(5))\n",
    "numerical_approx(pi, prec=Integer(200))"
   ]
  }
 ],
 "metadata": {
  "kernelspec": {
   "display_name": "SageMath 10.4",
   "language": "sage",
   "name": "sagemath"
  },
  "language_info": {
   "codemirror_mode": {
    "name": "ipython",
    "version": 3
   },
   "file_extension": ".py",
   "mimetype": "text/x-python",
   "name": "sage",
   "nbconvert_exporter": "python",
   "pygments_lexer": "ipython3",
   "version": "3.12.5"
  }
 },
 "nbformat": 4,
 "nbformat_minor": 2
}
