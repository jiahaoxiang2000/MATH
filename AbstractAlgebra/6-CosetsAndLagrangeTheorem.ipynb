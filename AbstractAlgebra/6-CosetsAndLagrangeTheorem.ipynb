{
 "cells": [
  {
   "cell_type": "markdown",
   "metadata": {},
   "source": [
    "Lagrange’s Theorem, one of the most important results in finite group theory, states that the\n",
    "order of a subgroup must **divide** the order of the group.\n",
    "\n"
   ]
  },
  {
   "cell_type": "markdown",
   "metadata": {
    "vscode": {
     "languageId": "plaintext"
    }
   },
   "source": [
    "### 6.1 Cosets\n",
    "\n",
    "Let $G$ be a group and $H$ a subgroup of $G$. Define a **left coset** of $H$ with **representative** $g \\in G$ to be the set\n",
    "$$ gH = \\{ gh : h \\in H \\} .$$\n",
    "Right cosets can be defined similarly by\n",
    "$$ Hg = \\{ hg : h \\in H \\} .$$\n",
    "If left and **right cosets** coincide or if it is clear from the context to which type of coset that we are referring, we will use the word coset without specifying left or right."
   ]
  },
  {
   "cell_type": "markdown",
   "metadata": {},
   "source": [
    "**Lemma 6.3** Let $H$ be a subgroup of a group $G$ and suppose that $g_1, g_2 \\in G$. The following conditions are equivalent.\n",
    "1. $g_1H = g_2H$;\n",
    "2. $Hg_1^{-1} = Hg_2^{-1}$;\n",
    "3. $g_1H \\cap g_2H \\neq \\emptyset$;\n",
    "4. $g_2 \\in g_1H$;\n",
    "5. $g_1^{-1}g_2 \\in H$."
   ]
  },
  {
   "cell_type": "markdown",
   "metadata": {
    "vscode": {
     "languageId": "plaintext"
    }
   },
   "source": [
    "**Theorem 6.4** Let $H$ be a subgroup of a group $G$. Then the left cosets of $H$ in $G$ partition $G$. That is, the group $G$ is the disjoint union of the left cosets of $H$ in $G$."
   ]
  },
  {
   "cell_type": "markdown",
   "metadata": {},
   "source": [
    "Let $G$ be a group and $H$ be a subgroup of $G$. Define the index of $H$ in $G$ to be the number of left cosets of $H$ in $G$. We will denote the index by $[G : H]$.\n",
    "\n",
    "**Theorem 6.8** Let $H$ be a subgroup of a group $G$. The number of left cosets of $H$ in $G$ is the same as the number of right cosets of $H$ in $G$."
   ]
  },
  {
   "cell_type": "markdown",
   "metadata": {},
   "source": [
    "### 6.2 Lagrange’s Theorem\n",
    "\n",
    "**Proposition 6.9** Let $H$ be a subgroup of $G$ with $g \\in G$ and define a map $\\varphi : H \\to gH$ by $\\varphi(h) = gh$. The map $\\varphi$ is bijective; hence, the number of elements in $H$ is the same as the number of elements in $gH$."
   ]
  },
  {
   "cell_type": "markdown",
   "metadata": {},
   "source": [
    "**Theorem 6.10 Lagrange** Let $G$ be a finite group and let $H$ be a subgroup of $G$. Then $\\frac{|G|}{|H|} = [G : H]$ is the number of distinct left cosets of $H$ in $G$. In particular, the number of elements in $H$ must divide the number of elements in $G$."
   ]
  },
  {
   "cell_type": "markdown",
   "metadata": {
    "vscode": {
     "languageId": "plaintext"
    }
   },
   "source": [
    "**Corollary 6.11** Suppose that $G$ is a finite group and $g \\in G$. Then the order of $g$ must divide the number of elements in $G$."
   ]
  }
 ],
 "metadata": {
  "kernelspec": {
   "display_name": "SageMath 10.2",
   "language": "sage",
   "name": "sagemath"
  },
  "language_info": {
   "codemirror_mode": {
    "name": "ipython",
    "version": 3
   },
   "file_extension": ".py",
   "mimetype": "text/x-python",
   "name": "python",
   "nbconvert_exporter": "python",
   "pygments_lexer": "ipython3",
   "version": "3.11.8"
  }
 },
 "nbformat": 4,
 "nbformat_minor": 2
}
