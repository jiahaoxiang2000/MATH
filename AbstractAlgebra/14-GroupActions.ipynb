{
 "cells": [
  {
   "cell_type": "markdown",
   "metadata": {},
   "source": [
    "Group actions generalize group multiplication. If $G$ is a group and $X$ is an arbitrary set, a group action of an element $g \\in G$ and $x \\in X$ is a product, $gx$, living in $X$."
   ]
  },
  {
   "cell_type": "markdown",
   "metadata": {},
   "source": [
    "### 14.1 Groups Acting on Sets\n",
    "\n",
    "Let $X$ be a set and $G$ be a group. A **(left) action** of $G$ on $X$ is a map $G \\times X \\to X$ given by $(g, x) \\mapsto gx$, where\n",
    "\n",
    "1. $ex = x$ for all $x \\in X$;\n",
    "2. $(g_1g_2)x = g_1(g_2x)$ for all $x \\in X$ and all $g_1, g_2 \\in G$.\n",
    "\n",
    "Under these considerations, $X$ is called a $G$**-set**."
   ]
  },
  {
   "cell_type": "markdown",
   "metadata": {
    "vscode": {
     "languageId": "plaintext"
    }
   },
   "source": [
    "If $G$ acts on a set $X$ and $x, y \\in X$, then $x$ is said to be $G$-equivalent to $y$ if there exists a $g \\in G$ such that $gx = y$. We write $x \\sim_G y$ or $x \\sim y$ if two elements are $G$-equivalent."
   ]
  },
  {
   "cell_type": "markdown",
   "metadata": {},
   "source": [
    "**Proposition 14.6** Let $X$ be a $G$-set. Then $G$-equivalence is an equivalence relation on $X$."
   ]
  },
  {
   "cell_type": "markdown",
   "metadata": {
    "vscode": {
     "languageId": "plaintext"
    }
   },
   "source": [
    "If $X$ is a $G$-set, then each partition of $X$ associated with $G$-equivalence is called an **orbit** of $X$ under $G$. We will denote the orbit that contains an element $x$ of $X$ by $O_x$."
   ]
  },
  {
   "cell_type": "markdown",
   "metadata": {
    "vscode": {
     "languageId": "plaintext"
    }
   },
   "source": [
    "The **fixed point set** of $g$ in $X$, denoted by $X_g$, is the set of all $x \\in X$ such that $gx = x$. We can also study the group elements $g$ that fix a given $x \\in X$. This set is more than a subset of $G$, it is a subgroup. This subgroup is called the **stabilizer subgroup** or isotropy subgroup of $x$. We will denote the stabilizer subgroup of $x$ by $G_x$."
   ]
  },
  {
   "cell_type": "markdown",
   "metadata": {},
   "source": [
    "**Proposition 14.10** Let $G$ be a group acting on a set $X$ and $x \\in X$. The stabilizer group of $x$, $G_x$, is a subgroup of $G$."
   ]
  },
  {
   "cell_type": "markdown",
   "metadata": {
    "vscode": {
     "languageId": "plaintext"
    }
   },
   "source": [
    "We will denote the number of elements in the fixed point set of an element $g \\in G$ by $|X_g|$ and denote the number of elements in the orbit of $x \\in X$ by $|O_x|$."
   ]
  },
  {
   "cell_type": "markdown",
   "metadata": {
    "vscode": {
     "languageId": "plaintext"
    }
   },
   "source": [
    "**Theorem 14.11** Let $G$ be a finite group and $X$ a finite $G$-set. If $x \\in X$, then $|O_x| = [G : G_x]$."
   ]
  },
  {
   "cell_type": "markdown",
   "metadata": {},
   "source": [
    "### 14.2 The Class Equation\n",
    "\n",
    "Let $X$ be a finite $G$-set and $X_G$ be the set of fixed points in $X$; that is,\n",
    "$$X_G = \\{x \\in X : gx = x \\text{ for all } g \\in G\\}.$$\n",
    "Since the orbits of the action partition $X$,\n",
    "$$|X| = |X_G| + \\sum_{i=k}^{n} |O_{x_i}|,$$\n",
    "where $x_k, \\ldots, x_n$ are representatives from the distinct nontrivial orbits of $X$."
   ]
  },
  {
   "cell_type": "markdown",
   "metadata": {},
   "source": [
    "Now consider the special case in which $G$ acts on itself by conjugation, $(g,x) \\rightarrow gxg^{-1}$.\n",
    "The center of $G$,\n",
    "$$Z(G) = \\{x : xg = gx \\text{ for all } g \\in G\\},$$\n",
    "is the set of points that are fixed by conjugation."
   ]
  },
  {
   "cell_type": "markdown",
   "metadata": {},
   "source": [
    "If $x_1, \\ldots, x_k$ are representatives from each of the nontrivial conjugacy classes of $G$ and $|O_{x_1}| = n_1, \\ldots, |O_{x_k}| = n_k$, then\n",
    "$$|G| = |Z(G)| + n_1 + \\cdots + n_k.$$\n",
    "\n",
    "The stabilizer subgroups of each of the $x_i$'s, $C(x_i) = \\{g \\in G : gx_i = x_ig\\}$, are called the **centralizer subgroups** of the $x_i$'s."
   ]
  },
  {
   "cell_type": "markdown",
   "metadata": {},
   "source": [
    "We obtain the class equation:\n",
    "$$|G| = |Z(G)| + [G : C(x_1)] + \\cdots + [G : C(x_k)].$$\n",
    "\n",
    "One of the consequences of the **class equation** is that the order of each conjugacy class must divide the order of $G$."
   ]
  }
 ],
 "metadata": {
  "language_info": {
   "name": "python"
  }
 },
 "nbformat": 4,
 "nbformat_minor": 2
}
