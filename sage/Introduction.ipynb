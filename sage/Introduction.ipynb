{
 "cells": [
  {
   "cell_type": "code",
   "execution_count": 1,
   "metadata": {},
   "outputs": [
    {
     "data": {
      "text/plain": [
       "7"
      ]
     },
     "execution_count": 1,
     "metadata": {},
     "output_type": "execute_result"
    }
   ],
   "source": [
    "# first we need import the module\n",
    "from sage.all import *\n",
    "\n",
    "Integer(3) + Integer(4)"
   ]
  },
  {
   "cell_type": "code",
   "execution_count": 2,
   "metadata": {},
   "outputs": [
    {
     "data": {
      "text/plain": [
       "[ 0  1  2  3]\n",
       "[ 4  5  6  7]\n",
       "[ 8  9 10 11]\n",
       "[12 13 14 15]"
      ]
     },
     "execution_count": 2,
     "metadata": {},
     "output_type": "execute_result"
    }
   ],
   "source": [
    "A = matrix(Integer(4), Integer(4), range(Integer(16)))\n",
    "A"
   ]
  },
  {
   "cell_type": "code",
   "execution_count": 11,
   "metadata": {},
   "outputs": [
    {
     "name": "stdout",
     "output_type": "stream",
     "text": [
      "\u001b[0;31mDocstring:\u001b[0m     \n",
      "   Note:\n",
      "\n",
      "     The characteristic polynomial is defined as \\det(xI-A).\n",
      "\n",
      "   INPUT:\n",
      "\n",
      "   * \"var\" -- a variable name\n",
      "\n",
      "   * \"algorithm\" -- (optional) either 'generic', 'flint' or 'linbox'.\n",
      "     Default is set to 'linbox'.\n",
      "\n",
      "   EXAMPLES:\n",
      "\n",
      "      sage: A = matrix(ZZ,6, range(36))\n",
      "      sage: f = A.charpoly(); f\n",
      "      x^6 - 105*x^5 - 630*x^4\n",
      "      sage: f(A) == 0\n",
      "      True\n",
      "      sage: g = A.charpoly(algorithm='flint')\n",
      "      sage: f == g\n",
      "      True\n",
      "      sage: n=20; A = Mat(ZZ,n)(range(n^2))\n",
      "      sage: A.charpoly()\n",
      "      x^20 - 3990*x^19 - 266000*x^18\n",
      "      sage: A.minpoly()\n",
      "      x^3 - 3990*x^2 - 266000*x\n",
      "\n",
      "   On non square matrices, this method raises an ArithmeticError:\n",
      "\n",
      "      sage: matrix(ZZ, 2, 1).charpoly()\n",
      "      Traceback (most recent call last):\n",
      "      ...\n",
      "      ArithmeticError: only valid for square matrix\n",
      "\u001b[0;31mInit docstring:\u001b[0m Initialize self.  See help(type(self)) for accurate signature.\n",
      "\u001b[0;31mFile:\u001b[0m           ~/anaconda3/envs/sage/lib/python3.12/site-packages/sage/matrix/matrix_integer_dense.pyx\n",
      "\u001b[0;31mType:\u001b[0m           builtin_function_or_method"
     ]
    }
   ],
   "source": [
    "# use the python object, because the type is `Any`, so no any type check, it means we need to see the document to know the type then use it.\n",
    "# which is not convenient.\n",
    "factor(A.charpoly())\n",
    "# ? is for help, so we can use it to see the document.\n",
    "# why the matrix object relation with the polynomial object? need to know theory.\n",
    "A.charpoly?"
   ]
  },
  {
   "cell_type": "code",
   "execution_count": 4,
   "metadata": {},
   "outputs": [
    {
     "data": {
      "text/plain": [
       "[0 1 2]\n",
       "[3 4 5]\n",
       "[6 7 8]"
      ]
     },
     "execution_count": 4,
     "metadata": {},
     "output_type": "execute_result"
    }
   ],
   "source": [
    "# the ZZ is the integer ring, so the matrix is the integer matrix\n",
    "m = matrix(ZZ, Integer(3), range(Integer(9)))\n",
    "m"
   ]
  },
  {
   "cell_type": "code",
   "execution_count": 5,
   "metadata": {},
   "outputs": [
    {
     "data": {
      "text/plain": [
       "36/(20*sqrt(73) + 36*I*sqrt(3) + 27)"
      ]
     },
     "execution_count": 5,
     "metadata": {},
     "output_type": "execute_result"
    }
   ],
   "source": [
    "k = Integer(1) / (\n",
    "    sqrt(Integer(3)) * I\n",
    "    + Integer(3) / Integer(4)\n",
    "    + sqrt(Integer(73)) * Integer(5) / Integer(9)\n",
    ")\n",
    "k"
   ]
  },
  {
   "cell_type": "code",
   "execution_count": 6,
   "metadata": {},
   "outputs": [
    {
     "data": {
      "text/plain": [
       "0.165495678130644 - 0.0521492082074256*I"
      ]
     },
     "execution_count": 6,
     "metadata": {},
     "output_type": "execute_result"
    }
   ],
   "source": [
    "## the k is symbolic expression, so we can use the symbolic expression to do the calculation\n",
    "N(k)"
   ]
  }
 ],
 "metadata": {
  "kernelspec": {
   "display_name": "SageMath 10.4",
   "language": "sage",
   "name": "sagemath"
  },
  "language_info": {
   "codemirror_mode": {
    "name": "ipython",
    "version": 3
   },
   "file_extension": ".py",
   "mimetype": "text/x-python",
   "name": "python",
   "nbconvert_exporter": "python",
   "pygments_lexer": "ipython3",
   "version": "3.12.5"
  }
 },
 "nbformat": 4,
 "nbformat_minor": 2
}
