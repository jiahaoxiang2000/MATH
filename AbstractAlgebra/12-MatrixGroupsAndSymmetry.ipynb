{
 "cells": [
  {
   "cell_type": "markdown",
   "metadata": {},
   "source": [
    "In the first part of this chapter, we will examine some of the\n",
    "classical matrix groups, such as the general linear group, the special linear group, and the\n",
    "orthogonal group. We will then use these matrix groups to investigate some of the ideas\n",
    "behind geometric symmetry."
   ]
  },
  {
   "cell_type": "markdown",
   "metadata": {
    "vscode": {
     "languageId": "plaintext"
    }
   },
   "source": [
    "### 12.1 Matrix Groups\n",
    "\n",
    "#### Some Facts from Linear Algebra\n",
    "\n",
    "A linear transformation or linear map $T : \\mathbb{R}^n \\rightarrow \\mathbb{R}^m$ is a map that preserves vector addition and scalar multiplication."
   ]
  },
  {
   "cell_type": "markdown",
   "metadata": {
    "vscode": {
     "languageId": "plaintext"
    }
   },
   "source": [
    "Recall that an $n \\times n$ matrix $A$ is **invertible** exactly when there exists another matrix $A^{-1}$ such that $A A^{-1} = A^{-1} A = I$, where\n",
    "\n",
    "$$\n",
    "I = \\begin{pmatrix}\n",
    "1 & 0 & \\cdots & 0 \\\\\n",
    "0 & 1 & \\cdots & 0 \\\\\n",
    "\\vdots & \\vdots & \\ddots & \\vdots \\\\\n",
    "0 & 0 & \\cdots & 1\n",
    "\\end{pmatrix}\n",
    "$$"
   ]
  },
  {
   "cell_type": "markdown",
   "metadata": {
    "vscode": {
     "languageId": "plaintext"
    }
   },
   "source": [
    "is the $n \\times n$ identity matrix. From linear algebra we know that $A$ is invertible if and only if the determinant of $A$ is nonzero. Sometimes an invertible matrix is said to be **nonsingular**."
   ]
  },
  {
   "cell_type": "markdown",
   "metadata": {
    "vscode": {
     "languageId": "plaintext"
    }
   },
   "source": [
    "**The General and Special Linear Groups**\n",
    "\n",
    "The set of all $n \\times n$ invertible matrices forms a group called the **general linear group**.\n",
    "Stated another way, suppose that $\\det(A) = 1$ and $\\det(B) = 1$. Then $\\det(AB) = \\det(A) \\det(B) = 1$ and $\\det(A^{-1}) = \\frac{1}{\\det A} = 1$. This subgroup is called the **special linear group** and is denoted by $SL_n(\\mathbb{R})$."
   ]
  },
  {
   "cell_type": "markdown",
   "metadata": {},
   "source": [
    "**The Orthogonal Group $O(n)$**\n",
    "\n",
    "Another subgroup of $GL_n(\\mathbb{R})$ is the orthogonal group. A matrix $A$ is orthogonal if $A^{-1} = A^T$. The **orthogonal group** consists of the set of all orthogonal matrices."
   ]
  },
  {
   "cell_type": "markdown",
   "metadata": {
    "vscode": {
     "languageId": "plaintext"
    }
   },
   "source": [
    "**Proposition 12.6** Let $x$, $y$, and $w$ be vectors in $\\mathbb{R}^n$ and $\\alpha \\in \\mathbb{R}$. Then\n",
    "\n",
    "1. $\\langle x, y \\rangle = \\langle y, x \\rangle$.\n",
    "2. $\\langle x, y + w \\rangle = \\langle x, y \\rangle + \\langle x, w \\rangle$.\n",
    "3. $\\langle \\alpha x, y \\rangle = \\langle x, \\alpha y \\rangle = \\alpha \\langle x, y \\rangle$.\n",
    "4. $\\langle x, x \\rangle \\geq 0$ with equality exactly when $x = 0$.\n",
    "5. If $\\langle x, y \\rangle = 0$ for all $x$ in $\\mathbb{R}^n$, then $y = 0$."
   ]
  },
  {
   "cell_type": "markdown",
   "metadata": {},
   "source": [
    "We say that a matrix $A$ is:\n",
    "\n",
    "- distance-preserving when $\\|Ax - Ay\\| = \\|x - y\\|$\n",
    "- length-preserving when $\\|Ax\\| = \\|x\\|$ \n",
    "- inner product-preserving when $\\langle Ax, Ay \\rangle = \\langle x, y \\rangle$"
   ]
  },
  {
   "cell_type": "markdown",
   "metadata": {},
   "source": [
    "**Theorem 12.8** Let $A$ be an $n \\times n$ matrix. The following statements are equivalent:\n",
    "\n",
    "1. The columns of the matrix $A$ form an orthonormal set.\n",
    "2. $A^{-1} = A^t$\n",
    "3. For vectors $x$ and $y$, $\\langle Ax, Ay \\rangle = \\langle x, y \\rangle$\n",
    "4. For vectors $x$ and $y$, $\\|Ax - Ay\\| = \\|x - y\\|$\n",
    "5. For any vector $x$, $\\|Ax\\| = \\|x\\| $"
   ]
  },
  {
   "cell_type": "markdown",
   "metadata": {
    "vscode": {
     "languageId": "plaintext"
    }
   },
   "source": [
    "The **special orthogonal group**, $SO(n)$, is just the intersection of $O(n)$ and $SL_n(\\mathbb{R})$; that is, those elements in $O(n)$ with determinant one.  **The Euclidean group**, $E(n)$, can be written as ordered pairs $(A, x)$, where $A$ is in $O(n)$ and $x$ is in $\\mathbb{R}^n$. We define multiplication by:\n",
    "\n",
    "$$(A, x)(B, y) = (AB, Ay + x)$$"
   ]
  },
  {
   "cell_type": "markdown",
   "metadata": {},
   "source": [
    "An **isometry or rigid motion** in $\\mathbb{R}^n$ is a distance-preserving function $f$ from $\\mathbb{R}^n$ to $\\mathbb{R}^n$. This means that $f$ must satisfy:\n",
    "\n",
    "$$\\|f(x) - f(y)\\| = \\|x - y\\|$$\n",
    "\n",
    "for all $x, y \\in \\mathbb{R}^n$."
   ]
  },
  {
   "cell_type": "markdown",
   "metadata": {
    "vscode": {
     "languageId": "plaintext"
    }
   },
   "source": [
    "**Lemma 12.13** An isometry $f$ that fixes the origin in $\\mathbb{R}^2$ is a linear transformation. In particular, $f$ is given by an element in $O(2)$."
   ]
  },
  {
   "cell_type": "markdown",
   "metadata": {},
   "source": [
    "**Theorem 12.14** The group of isometries on $\\mathbb{R}^2$ is the Euclidean group, $E(2)$.\n",
    "\n",
    "**Theorem 12.15** The only finite symmetry groups in $\\mathbb{R}^2$ are $Z_n$ and $D_n$."
   ]
  },
  {
   "cell_type": "markdown",
   "metadata": {
    "vscode": {
     "languageId": "plaintext"
    }
   },
   "source": [
    "Suppose that we wish to study wallpaper patterns in the plane or crystals in three dimensions. The mathematical equivalent of a wallpaper or crystal pattern is called a **lattice**. "
   ]
  },
  {
   "cell_type": "markdown",
   "metadata": {
    "vscode": {
     "languageId": "plaintext"
    }
   },
   "source": [
    "A **lattice** of $x$ and $y$ is the set of all linear combinations $mx + ny$, where $m$ and $n$ are integers. The vectors $x$ and $y$ are said to be a **basis** for the lattice."
   ]
  },
  {
   "cell_type": "markdown",
   "metadata": {
    "vscode": {
     "languageId": "plaintext"
    }
   },
   "source": [
    "Similarly, classification of crystals in $\\mathbb{R}^3$ is accomplished by associating a symmetry group, called a **space group**, with each type of crystal."
   ]
  },
  {
   "cell_type": "markdown",
   "metadata": {},
   "source": [
    "A space group is composed of two parts: a **translation** subgroup and a **point**. The translation subgroup is an **infinite abelian subgroup** of the space group made up of the translational symmetries of the crystal; the point group is a **finite group** consisting of rotations and reflections of the crystal about a point."
   ]
  },
  {
   "cell_type": "markdown",
   "metadata": {},
   "source": [
    "**Theorem 12.19** Every translation group in $\\mathbb{R}^2$ is isomorphic to $\\mathbb{Z} \\times \\mathbb{Z}$."
   ]
  },
  {
   "cell_type": "markdown",
   "metadata": {
    "vscode": {
     "languageId": "plaintext"
    }
   },
   "source": [
    "**Theorem 12.20** The point group in the wallpaper groups is isomorphic to $Z_n$ or $D_n$, where $n = 1, 2, 3, 4, 6$."
   ]
  }
 ],
 "metadata": {
  "language_info": {
   "name": "python"
  }
 },
 "nbformat": 4,
 "nbformat_minor": 2
}
