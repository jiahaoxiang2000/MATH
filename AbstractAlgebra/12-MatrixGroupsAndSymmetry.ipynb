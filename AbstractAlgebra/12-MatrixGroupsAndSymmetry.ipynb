{
 "cells": [
  {
   "cell_type": "markdown",
   "metadata": {},
   "source": [
    "In the first part of this chapter, we will examine some of the\n",
    "classical matrix groups, such as the general linear group, the special linear group, and the\n",
    "orthogonal group. We will then use these matrix groups to investigate some of the ideas\n",
    "behind geometric symmetry."
   ]
  },
  {
   "cell_type": "markdown",
   "metadata": {
    "vscode": {
     "languageId": "plaintext"
    }
   },
   "source": [
    "### 12.1 Matrix Groups\n",
    "\n",
    "#### Some Facts from Linear Algebra\n",
    "\n",
    "A linear transformation or linear map $T : \\mathbb{R}^n \\rightarrow \\mathbb{R}^m$ is a map that preserves vector addition and scalar multiplication."
   ]
  },
  {
   "cell_type": "markdown",
   "metadata": {
    "vscode": {
     "languageId": "plaintext"
    }
   },
   "source": [
    "Recall that an $n \\times n$ matrix $A$ is **invertible** exactly when there exists another matrix $A^{-1}$ such that $A A^{-1} = A^{-1} A = I$, where\n",
    "\n",
    "$$\n",
    "I = \\begin{pmatrix}\n",
    "1 & 0 & \\cdots & 0 \\\\\n",
    "0 & 1 & \\cdots & 0 \\\\\n",
    "\\vdots & \\vdots & \\ddots & \\vdots \\\\\n",
    "0 & 0 & \\cdots & 1\n",
    "\\end{pmatrix}\n",
    "$$"
   ]
  },
  {
   "cell_type": "markdown",
   "metadata": {
    "vscode": {
     "languageId": "plaintext"
    }
   },
   "source": [
    "is the $n \\times n$ identity matrix. From linear algebra we know that $A$ is invertible if and only if the determinant of $A$ is nonzero. Sometimes an invertible matrix is said to be **nonsingular**."
   ]
  },
  {
   "cell_type": "markdown",
   "metadata": {
    "vscode": {
     "languageId": "plaintext"
    }
   },
   "source": [
    "**The General and Special Linear Groups**\n",
    "\n",
    "The set of all $n \\times n$ invertible matrices forms a group called the **general linear group**.\n",
    "Stated another way, suppose that $\\det(A) = 1$ and $\\det(B) = 1$. Then $\\det(AB) = \\det(A) \\det(B) = 1$ and $\\det(A^{-1}) = \\frac{1}{\\det A} = 1$. This subgroup is called the **special linear group** and is denoted by $SL_n(\\mathbb{R})$."
   ]
  },
  {
   "cell_type": "markdown",
   "metadata": {},
   "source": [
    "**The Orthogonal Group $O(n)$**\n",
    "\n",
    "Another subgroup of $GL_n(\\mathbb{R})$ is the orthogonal group. A matrix $A$ is orthogonal if $A^{-1} = A^T$. The **orthogonal group** consists of the set of all orthogonal matrices."
   ]
  },
  {
   "cell_type": "markdown",
   "metadata": {
    "vscode": {
     "languageId": "plaintext"
    }
   },
   "source": [
    "**Proposition 12.6** Let $x$, $y$, and $w$ be vectors in $\\mathbb{R}^n$ and $\\alpha \\in \\mathbb{R}$. Then\n",
    "\n",
    "1. $\\langle x, y \\rangle = \\langle y, x \\rangle$.\n",
    "2. $\\langle x, y + w \\rangle = \\langle x, y \\rangle + \\langle x, w \\rangle$.\n",
    "3. $\\langle \\alpha x, y \\rangle = \\langle x, \\alpha y \\rangle = \\alpha \\langle x, y \\rangle$.\n",
    "4. $\\langle x, x \\rangle \\geq 0$ with equality exactly when $x = 0$.\n",
    "5. If $\\langle x, y \\rangle = 0$ for all $x$ in $\\mathbb{R}^n$, then $y = 0$."
   ]
  }
 ],
 "metadata": {
  "language_info": {
   "name": "python"
  }
 },
 "nbformat": 4,
 "nbformat_minor": 2
}
