{
 "cells": [
  {
   "cell_type": "markdown",
   "metadata": {},
   "source": [
    "We wish to be able to encode and decode the information in a manner that will allow the detection, and possibly the correction, of errors caused by noise."
   ]
  },
  {
   "cell_type": "markdown",
   "metadata": {
    "vscode": {
     "languageId": "plaintext"
    }
   },
   "source": [
    "### 8.1 Error-Detecting and Correcting Codes\n",
    "\n",
    "Uncoded messages may be composed of letters or characters, but typically they consist of binary $m$-tuples. These messages are encoded into codewords consisting of binary $n$-tuples, by a device called an **encoder**. The message is transmitted and then decoded. We will consider the occurrence of errors during transmission. An error occurs if there is a change in one or more bits in the codeword. A **decoding** scheme is a method that either converts an arbitrarily received $n$-tuple into a meaningful decoded message or gives an error message for that $n$-tuple."
   ]
  },
  {
   "cell_type": "markdown",
   "metadata": {
    "vscode": {
     "languageId": "plaintext"
    }
   },
   "source": [
    "The even parity system is easy to implement, but has two drawbacks. First, **multiple errors** are not detectable. Suppose an $A$ is sent and the first and seventh bits are changed from 0 to 1. The received word is a codeword, but will be decoded into a $C$ instead of an $A$. Second, we do not have the ability to **correct errors**. If the 8-tuple $(\\text{1001 1000})$ is received, we know that an error has occurred, but we have no idea which bit has been changed."
   ]
  },
  {
   "cell_type": "markdown",
   "metadata": {},
   "source": [
    "#### Maximum-Likelihood Decoding\n",
    "\n",
    "We will also assume that a received $n$-tuple is decoded into a codeword that is closest to it; that is, we assume that the receiver uses **maximum-likelihood decoding**.\n",
    "\n",
    "A **binary symmetric channel** is a model that consists of a transmitter capable of sending a binary signal, either a 0 or a 1, together with a receiver. Let $p$ be the probability that the signal is correctly received. Then $q = 1 - p$ is the probability of an incorrect reception."
   ]
  },
  {
   "cell_type": "markdown",
   "metadata": {},
   "source": [
    "**Theorem 8.7** If a binary $n$-tuple $(x_1, \\ldots, x_n)$ is transmitted across a binary symmetric channel with probability $p$ that no error will occur in each coordinate, then the probability that there are errors in exactly $k$ coordinates is\n",
    "$$\n",
    "\\binom{n}{k} q^k p^{n-k}.\n",
    "$$"
   ]
  }
 ],
 "metadata": {
  "kernelspec": {
   "display_name": "SageMath 10.2",
   "language": "sage",
   "name": "sagemath"
  },
  "language_info": {
   "codemirror_mode": {
    "name": "ipython",
    "version": 3
   },
   "file_extension": ".py",
   "mimetype": "text/x-python",
   "name": "python",
   "nbconvert_exporter": "python",
   "pygments_lexer": "ipython3",
   "version": "3.11.8"
  }
 },
 "nbformat": 4,
 "nbformat_minor": 2
}
