{
 "cells": [
  {
   "cell_type": "markdown",
   "metadata": {},
   "source": [
    "We wish to be able to encode and decode the information in a manner that will allow the detection, and possibly the correction, of errors caused by noise."
   ]
  },
  {
   "cell_type": "markdown",
   "metadata": {
    "vscode": {
     "languageId": "plaintext"
    }
   },
   "source": [
    "### 8.1 Error-Detecting and Correcting Codes\n",
    "\n",
    "Uncoded messages may be composed of letters or characters, but typically they consist of binary $m$-tuples. These messages are encoded into codewords consisting of binary $n$-tuples, by a device called an **encoder**. The message is transmitted and then decoded. We will consider the occurrence of errors during transmission. An error occurs if there is a change in one or more bits in the codeword. A **decoding** scheme is a method that either converts an arbitrarily received $n$-tuple into a meaningful decoded message or gives an error message for that $n$-tuple."
   ]
  },
  {
   "cell_type": "markdown",
   "metadata": {
    "vscode": {
     "languageId": "plaintext"
    }
   },
   "source": [
    "The even parity system is easy to implement, but has two drawbacks. First, **multiple errors** are not detectable. Suppose an $A$ is sent and the first and seventh bits are changed from 0 to 1. The received word is a codeword, but will be decoded into a $C$ instead of an $A$. Second, we do not have the ability to **correct errors**. If the 8-tuple $(\\text{1001 1000})$ is received, we know that an error has occurred, but we have no idea which bit has been changed."
   ]
  },
  {
   "cell_type": "markdown",
   "metadata": {},
   "source": [
    "#### Maximum-Likelihood Decoding\n",
    "\n",
    "We will also assume that a received $n$-tuple is decoded into a codeword that is closest to it; that is, we assume that the receiver uses **maximum-likelihood decoding**.\n",
    "\n",
    "A **binary symmetric channel** is a model that consists of a transmitter capable of sending a binary signal, either a 0 or a 1, together with a receiver. Let $p$ be the probability that the signal is correctly received. Then $q = 1 - p$ is the probability of an incorrect reception."
   ]
  },
  {
   "cell_type": "markdown",
   "metadata": {},
   "source": [
    "**Theorem 8.7** If a binary $n$-tuple $(x_1, \\ldots, x_n)$ is transmitted across a binary symmetric channel with probability $p$ that no error will occur in each coordinate, then the probability that there are errors in exactly $k$ coordinates is\n",
    "$$\n",
    "\\binom{n}{k} q^k p^{n-k}.\n",
    "$$"
   ]
  },
  {
   "cell_type": "markdown",
   "metadata": {},
   "source": [
    "#### Block Codes\n",
    "\n",
    "A code is an $(n,m)$-**block code** if the information that is to be coded\n",
    "can be divided into blocks of $m$ binary digits, each of which can be encoded into $n$ binary digits. More specifically, an $(n,m)$-block code consists of an **encoding function**\n",
    "$$\n",
    "E : \\mathbb{Z}_2^m \\to \\mathbb{Z}_2^n\n",
    "$$\n",
    "and a **decoding function**\n",
    "$$\n",
    "D : \\mathbb{Z}_2^n \\to \\mathbb{Z}_2^m.\n",
    "$$\n",
    "A **codeword** is any element in the image of $E$. We also require that $E$ be **one-to-one** so that two information blocks will not be encoded into the same codeword. If our code is to be error-correcting, then $D$ must be **onto**."
   ]
  },
  {
   "cell_type": "markdown",
   "metadata": {},
   "source": [
    "Let $x = (x_1, \\ldots, x_n)$ and $y = (y_1, \\ldots, y_n)$ be binary $n$-tuples. The **Hamming distance** or distance, $d(x, y)$, between $x$ and $y$ is the number of bits in which $x$ and $y$ differ. The distance between two codewords is the minimum number of transmission errors required to change\n",
    "one codeword into the other. The **minimum distance** for a code, $d_{\\min}$, is the minimum of all distances $d(x, y)$, where $x$ and $y$ are distinct codewords. The **weight**, $w(x)$, of a binary codeword $x$ is the number of 1s in $x$. Clearly, $w(x) = d(x, 0)$, where $0 = (0, 0, \\ldots, 0)$."
   ]
  },
  {
   "cell_type": "markdown",
   "metadata": {
    "vscode": {
     "languageId": "plaintext"
    }
   },
   "source": [
    "**Proposition 8.11** Let $x$, $y$, and $z$ be binary $n$-tuples. Then\n",
    "1. $w(x) = d(x, 0)$;\n",
    "2. $d(x, y) \\geq 0$;\n",
    "3. $d(x, y) = 0$ exactly when $x = y$;\n",
    "4. $d(x, y) = d(y, x)$;\n",
    "5. $d(x, y) \\leq d(x, z) + d(z, y)$."
   ]
  },
  {
   "cell_type": "markdown",
   "metadata": {},
   "source": [
    "**Theorem 8.13** Let $C$ be a code with $d_{\\min} = 2n + 1$. Then $C$ can correct any $n$ or fewer errors. Furthermore, any $2n$ or fewer errors can be detected in $C$."
   ]
  },
  {
   "cell_type": "markdown",
   "metadata": {
    "vscode": {
     "languageId": "plaintext"
    }
   },
   "source": [
    "### 8.2 Linear Codes\n",
    "\n",
    "A **group code** is a code that is also a subgroup of $\\mathbb{Z}_2^n$.\n",
    "To check that a code is a group code, we need only verify one thing. If we add any two elements in the code, the result must be an $n$-tuple that is again in the code. It is not necessary to check that the inverse of the $n$-tuple is in the code, since every codeword is its own inverse, nor is it necessary to check that $0$ is a codeword."
   ]
  },
  {
   "cell_type": "markdown",
   "metadata": {},
   "source": [
    "**Lemma 8.17** Let $x$ and $y$ be binary $n$-tuples. Then $w(x + y) = d(x, y)$.\n",
    "\n",
    "**Theorem 8.18** Let $d_{\\min}$ be the minimum distance for a group code $C$. Then $d_{\\min}$ is the minimum weight of all the nonzero codewords in $C$. That is,\n",
    "$$\n",
    "d_{\\min} = \\min\\{w(x) : x \\neq 0\\}.\n",
    "$$"
   ]
  },
  {
   "cell_type": "markdown",
   "metadata": {
    "vscode": {
     "languageId": "plaintext"
    }
   },
   "source": [
    "#### Linear Codes\n",
    "\n",
    "Define the **inner product** of two binary $n$-tuples to be\n",
    "$$\n",
    "x \\cdot y = x_1 y_1 + \\cdots + x_n y_n,\n",
    "$$\n",
    "where $x = (x_1, x_2, \\ldots, x_n)^t$ and $y = (y_1, y_2, \\ldots, y_n)^t$ are column vectors. For example, if $x = (011001)^t$ and $y = (110101)^t$, then $x \\cdot y = 0$. We can also look at an inner product as the product of a row matrix with a column matrix; that is,\n",
    "$$\n",
    "x \\cdot y = x^t y =\n",
    "\\begin{pmatrix}\n",
    "x_1 & x_2 & \\cdots & x_n\n",
    "\\end{pmatrix}\n",
    "\\begin{pmatrix}\n",
    "y_1 \\\\\n",
    "y_2 \\\\\n",
    "\\vdots \\\\\n",
    "y_n\n",
    "\\end{pmatrix} = x_1 y_1 + \\cdots + x_n y_n.\n",
    "$$"
   ]
  },
  {
   "cell_type": "markdown",
   "metadata": {},
   "source": [
    "Let $\\mathbb{M}_{m \\times n}(\\mathbb{Z}_2)$ denote the set of all $m \\times n$ matrices with entries in $\\mathbb{Z}_2$. We do matrix operations as usual except that all our addition and multiplication operations occur in $\\mathbb{Z}_2$. Define the null space of a matrix $H \\in \\mathbb{M}_{m \\times n}(\\mathbb{Z}_2)$ to be the set of all binary $n$-tuples $x$ such that $Hx = 0$. We denote the null space of a matrix $H$ by $\\text{Null}(H)$."
   ]
  },
  {
   "cell_type": "markdown",
   "metadata": {
    "vscode": {
     "languageId": "plaintext"
    }
   },
   "source": [
    "**Theorem 8.21** Let $H$ be in $\\mathbb{M}_{m \\times n}(\\mathbb{Z}_2)$. Then the null space of $H$ is a group code.\n",
    "\n",
    "A code is a **linear code** if it is determined by the **null space** of some matrix $H \\in \\mathbb{M}_{m \\times n}(\\mathbb{Z}_2)$."
   ]
  },
  {
   "cell_type": "markdown",
   "metadata": {},
   "source": [
    "### 8.3 Parity-Check and Generator Matrices\n",
    "\n",
    "Suppose that $H$ is an $m \\times n$ matrix with entries in $\\mathbb{Z}_2$ and $n > m$. If the last $m$ columns of the matrix form the $m \\times m$ identity matrix, $I_m$, then the matrix is a **canonical parity-check matrix**. More specifically, $H = (A \\mid I_m)$, where $A$ is the $m \\times (n - m)$ matrix\n",
    "$$\n",
    "\\begin{pmatrix}\n",
    "a_{11} & a_{12} & \\cdots & a_{1,n-m} \\\\\n",
    "a_{21} & a_{22} & \\cdots & a_{2,n-m} \\\\\n",
    "\\vdots & \\vdots & \\ddots & \\vdots \\\\\n",
    "a_{m1} & a_{m2} & \\cdots & a_{m,n-m}\n",
    "\\end{pmatrix}\n",
    "$$\n",
    "and $I_m$ is the $m \\times m$ identity matrix\n",
    "$$\n",
    "\\begin{pmatrix}\n",
    "1 & 0 & \\cdots & 0 \\\\\n",
    "0 & 1 & \\cdots & 0 \\\\\n",
    "\\vdots & \\vdots & \\ddots & \\vdots \\\\\n",
    "0 & 0 & \\cdots & 1\n",
    "\\end{pmatrix}.\n",
    "$$"
   ]
  },
  {
   "cell_type": "markdown",
   "metadata": {},
   "source": [
    "With each canonical parity-check matrix we can associate an $n \\times (n - m)$ **standard generator matrix**\n",
    "$$\n",
    "G =\n",
    "\\begin{pmatrix}\n",
    "I_{n-m} \\\\\n",
    "A\n",
    "\\end{pmatrix}.\n",
    "$$\n",
    "Our goal will be to show that an $x$ satisfying $Gx = y$ exists if and only if $Hy = 0$. Given a\n",
    "message block $x$ to be encoded, the matrix $G$ will allow us to quickly encode it into a linear\n",
    "codeword $y$."
   ]
  },
  {
   "cell_type": "markdown",
   "metadata": {},
   "source": [
    "**Theorem 8.25** If $H \\in M_{m \\times n}(\\mathbb{Z}_2)$ is a canonical parity-check matrix, then $\\text{Null}(H)$ consists of all $x \\in \\mathbb{Z}_2^n$ whose first $n - m$ bits are arbitrary but whose last $m$ bits are determined by $Hx = 0$. Each of the last $m$ bits serves as an even parity check bit for some of the first $n - m$ bits. Hence, $H$ gives rise to an $(n, n - m)$-block code.\n",
    "\n",
    "In light of the theorem, the first $n - m$ bits in $x$ are called **information bits** and the last $m$ bits are called **check bits**."
   ]
  },
  {
   "cell_type": "markdown",
   "metadata": {},
   "source": [
    "**Theorem 8.26** Suppose that $G$ is an $n \\times k$ standard generator matrix. Then $C = \\{ y : Gx = y \\text{ for } x \\in \\mathbb{Z}_2^k \\}$ is an $(n, k)$-block code. More specifically, $C$ is a group code.\n",
    "\n",
    "**Lemma 8.27** Let $H = (A \\mid I_m)$ be an $m \\times n$ canonical parity-check matrix and $G =\n",
    "\\begin{pmatrix}\n",
    "I_{n-m} \\\\\n",
    "A\n",
    "\\end{pmatrix}$ be the corresponding $n \\times (n - m)$ standard generator matrix. Then $HG = 0$."
   ]
  },
  {
   "cell_type": "markdown",
   "metadata": {},
   "source": [
    "**Theorem 8.28** Let $H = (A \\mid I_m)$ be an $m \\times n$ canonical parity-check matrix and let\n",
    "$\n",
    "G =\n",
    "\\begin{pmatrix}\n",
    "I_{n-m} \\\\\n",
    "A\n",
    "\\end{pmatrix}\n",
    "$\n",
    "be the $n \\times (n - m)$ standard generator matrix associated with $H$. Let $C$ be the code generated by $G$. Then $y$ is in $C$ if and only if $Hy = 0$. In particular, $C$ is a linear code with canonical parity-check matrix $H$."
   ]
  },
  {
   "cell_type": "markdown",
   "metadata": {},
   "source": [
    "**Proposition 8.30** Let $e_i$ be the binary $n$-tuple with a 1 in the $i$-th coordinate and 0’s elsewhere and suppose that $H \\in M_{m \\times n}(\\mathbb{Z}_2)$. Then $He_i$ is the $i$-th column of the matrix $H$."
   ]
  },
  {
   "cell_type": "markdown",
   "metadata": {},
   "source": [
    "**Theorem 8.31** Let $H$ be an $m \\times n$ binary matrix. Then the null space of $H$ is a single error-detecting code if and only if no column of $H$ consists entirely of zeros.\n",
    "\n",
    "**Theorem 8.34** Let $H$ be a binary matrix. The null space of $H$ is a single error-correcting code if and only if $H$ does not contain any zero columns and no two columns of $H$ are identical."
   ]
  },
  {
   "cell_type": "markdown",
   "metadata": {},
   "source": [
    "### 8.4 Efficient Decoding\n",
    "\n",
    "If $H$ is an $m \\times n$ matrix and $x \\in \\mathbb{Z}_2^n$, then we say that the **syndrome** of $x$ is $Hx$.\n",
    "\n",
    "**Proposition 8.36** Let the $m \\times n$ binary matrix $H$ determine a linear code and let $x$ be the received $n$-tuple. Write $x$ as $x = c + e$, where $c$ is the transmitted codeword and $e$ is the transmission error. Then the syndrome $Hx$ of the received codeword $x$ is also the syndrome of the error $e$."
   ]
  },
  {
   "cell_type": "markdown",
   "metadata": {},
   "source": [
    "**Theorem 8.37** Let $H \\in M_{m \\times n}(\\mathbb{Z}_2)$ and suppose that the linear code corresponding to $H$ is single error-correcting. Let $r$ be a received $n$-tuple that was transmitted with at most one error. If the syndrome of $r$ is 0, then no error has occurred; otherwise, if the syndrome of $r$ is equal to some column of $H$, say the $i$-th column, then the error has occurred in the $i$-th bit."
   ]
  },
  {
   "cell_type": "markdown",
   "metadata": {},
   "source": [
    "#### Coset Decoding\n",
    "\n",
    "A linear code $C$ is a subgroup of $\\mathbb{Z}_2^n$. **Coset** or **standard decoding** uses the cosets of $C$ in $\\mathbb{Z}_2^n$ to implement maximum-likelihood decoding. Suppose that $C$ is an $(n,m)$-linear code. A coset of $C$ in $\\mathbb{Z}_2^n$ is written in the form $x + C$, where $x \\in \\mathbb{Z}_2^n$. By Lagrange’s Theorem (Theorem 6.10), there are $2^{n-m}$ distinct cosets of $C$ in $\\mathbb{Z}_2^n$."
   ]
  },
  {
   "cell_type": "markdown",
   "metadata": {},
   "source": [
    "In maximum-likelihood decoding we expect the error $e$ to be as small as possible; that is, $e$ will have the least weight. An $n$-tuple of least weight in a coset is called a **coset leader**. Once we have determined a coset leader for each coset, the decoding process becomes a task of calculating $r + e$ to obtain $x$."
   ]
  },
  {
   "cell_type": "markdown",
   "metadata": {},
   "source": [
    "**Proposition 8.43** Let $C$ be an $(n, k)$-linear code given by the matrix $H$ and suppose that $x$ and $y$ are in $\\mathbb{Z}_2^n$. Then $x$ and $y$ are in the same coset of $C$ if and only if $Hx = Hy$. That is, two $n$-tuples are in the same coset if and only if their syndromes are the same."
   ]
  }
 ],
 "metadata": {
  "kernelspec": {
   "display_name": "SageMath 10.2",
   "language": "sage",
   "name": "sagemath"
  },
  "language_info": {
   "codemirror_mode": {
    "name": "ipython",
    "version": 3
   },
   "file_extension": ".py",
   "mimetype": "text/x-python",
   "name": "sage",
   "nbconvert_exporter": "python",
   "pygments_lexer": "ipython3",
   "version": "3.11.8"
  }
 },
 "nbformat": 4,
 "nbformat_minor": 2
}
