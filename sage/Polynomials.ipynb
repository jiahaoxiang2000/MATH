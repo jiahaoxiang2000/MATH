{
 "cells": [
  {
   "cell_type": "markdown",
   "metadata": {},
   "source": [
    "## Univariate Polynomials"
   ]
  },
  {
   "cell_type": "code",
   "execution_count": 20,
   "metadata": {},
   "outputs": [
    {
     "data": {
      "text/plain": [
       "True"
      ]
     },
     "execution_count": 20,
     "metadata": {},
     "output_type": "execute_result"
    }
   ],
   "source": [
    "from sage.all import *\n",
    "\n",
    "R = PolynomialRing(QQ, \"t\")\n",
    "S = QQ[\"t\"]\n",
    "S == R"
   ]
  },
  {
   "cell_type": "code",
   "execution_count": 21,
   "metadata": {},
   "outputs": [
    {
     "data": {
      "text/plain": [
       "True"
      ]
     },
     "execution_count": 21,
     "metadata": {},
     "output_type": "execute_result"
    }
   ],
   "source": [
    "R = QQ[\"t\"]\n",
    "(t,) = R._first_ngens(1)\n",
    "poly = t**2 + 2 * t + 1\n",
    "poly in R"
   ]
  },
  {
   "cell_type": "code",
   "execution_count": 22,
   "metadata": {},
   "outputs": [
    {
     "data": {
      "text/plain": [
       "t"
      ]
     },
     "execution_count": 22,
     "metadata": {},
     "output_type": "execute_result"
    }
   ],
   "source": [
    "R = PolynomialRing(QQ, \"t\")\n",
    "t = R.gen(0)\n",
    "t"
   ]
  },
  {
   "cell_type": "code",
   "execution_count": 23,
   "metadata": {},
   "outputs": [
    {
     "data": {
      "text/plain": [
       "4*t^14 + 12*t^9 - 60/19*t^7 + 9*t^4 - 90/19*t^2 + 225/361"
      ]
     },
     "execution_count": 23,
     "metadata": {},
     "output_type": "execute_result"
    }
   ],
   "source": [
    "R, t = QQ[\"t\"].objgen()\n",
    "f = (\n",
    "    Integer(2) * t ** Integer(7)\n",
    "    + Integer(3) * t ** Integer(2)\n",
    "    - Integer(15) / Integer(19)\n",
    ")\n",
    "f ** Integer(2)"
   ]
  },
  {
   "cell_type": "code",
   "execution_count": 24,
   "metadata": {},
   "outputs": [
    {
     "data": {
      "text/plain": [
       "7*t^16 + 7*t^15 + 7*t^14 + 7*t^13 + 77*t^12 + 91*t^11 + 91*t^10 + 84*t^9 + 84*t^8 + 84*t^7 + 84*t^6 + 14*t^5"
      ]
     },
     "execution_count": 24,
     "metadata": {},
     "output_type": "execute_result"
    }
   ],
   "source": [
    "cyclo = R.cyclotomic_polynomial(Integer(7))\n",
    "g = (\n",
    "    Integer(7)\n",
    "    * cyclo\n",
    "    * t ** Integer(5)\n",
    "    * (t ** Integer(5) + Integer(10) * t + Integer(2))\n",
    ")\n",
    "g\n",
    "# the polynomial multiplication of A and B is like the system A transfer function serial connect to B transfer function.\n",
    "# we can map the general math knowledge to application case."
   ]
  },
  {
   "cell_type": "code",
   "execution_count": 26,
   "metadata": {},
   "outputs": [
    {
     "data": {
      "text/plain": [
       "1 + x + x^2 + x^3 + x^4 + x^5 + x^6 + x^7 + x^8 + x^9 + O(x^10)"
      ]
     },
     "execution_count": 26,
     "metadata": {},
     "output_type": "execute_result"
    }
   ],
   "source": [
    "# Laurent series\n",
    "R = LaurentSeriesRing(QQ, names=(\"x\",))\n",
    "x = R.gen(0)\n",
    "Integer(1) / (Integer(1) - x) + O(\n",
    "    x ** Integer(10)\n",
    ")  # the series is for approximation, so we can ignore the higher order terms."
   ]
  },
  {
   "cell_type": "markdown",
   "metadata": {},
   "source": [
    "## Multivariate Polynomials"
   ]
  },
  {
   "cell_type": "code",
   "execution_count": 31,
   "metadata": {},
   "outputs": [
    {
     "data": {
      "text/plain": [
       "x^3 + x^2*y + x*y^2 + y^3"
      ]
     },
     "execution_count": 31,
     "metadata": {},
     "output_type": "execute_result"
    }
   ],
   "source": [
    "R = GF(Integer(2))[\"x,y\"]\n",
    "x, y = R.gens()\n",
    "(x + y) ** Integer(3)"
   ]
  }
 ],
 "metadata": {
  "kernelspec": {
   "display_name": "SageMath 10.2",
   "language": "sage",
   "name": "sagemath"
  },
  "language_info": {
   "codemirror_mode": {
    "name": "ipython",
    "version": 3
   },
   "file_extension": ".py",
   "mimetype": "text/x-python",
   "name": "python",
   "nbconvert_exporter": "python",
   "pygments_lexer": "ipython3",
   "version": "3.11.8"
  }
 },
 "nbformat": 4,
 "nbformat_minor": 2
}
