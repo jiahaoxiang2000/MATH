{
 "cells": [
  {
   "cell_type": "markdown",
   "metadata": {},
   "source": [
    "In algebra, objects sharing the same kind of algebraic structures are collected in so-called “categories”."
   ]
  },
  {
   "cell_type": "code",
   "execution_count": 1,
   "metadata": {},
   "outputs": [
    {
     "data": {
      "text/plain": [
       "Join of Category of euclidean domains and Category of infinite enumerated sets and Category of metric spaces"
      ]
     },
     "execution_count": 1,
     "metadata": {},
     "output_type": "execute_result"
    }
   ],
   "source": [
    "from sage.all import *\n",
    "\n",
    "ZZ.category()"
   ]
  },
  {
   "cell_type": "markdown",
   "metadata": {},
   "source": [
    "Hence, from an algebraic point of view, **the parent of an element is more important than its type**."
   ]
  },
  {
   "cell_type": "code",
   "execution_count": 3,
   "metadata": {},
   "outputs": [
    {
     "name": "stdout",
     "output_type": "stream",
     "text": [
      "True\n",
      "Finite Field of size 2\n",
      "Finite Field of size 5\n"
     ]
    }
   ],
   "source": [
    "a = GF(Integer(2))(Integer(1))\n",
    "b = GF(Integer(5))(Integer(1))\n",
    "print(type(a) is type(b))\n",
    "print(parent(a))\n",
    "print(parent(b))"
   ]
  }
 ],
 "metadata": {
  "kernelspec": {
   "display_name": "SageMath 10.2",
   "language": "sage",
   "name": "sagemath"
  },
  "language_info": {
   "codemirror_mode": {
    "name": "ipython",
    "version": 3
   },
   "file_extension": ".py",
   "mimetype": "text/x-python",
   "name": "python",
   "nbconvert_exporter": "python",
   "pygments_lexer": "ipython3",
   "version": "3.11.8"
  }
 },
 "nbformat": 4,
 "nbformat_minor": 2
}
