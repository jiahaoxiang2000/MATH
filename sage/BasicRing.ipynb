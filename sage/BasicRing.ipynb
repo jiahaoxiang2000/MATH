{
 "cells": [
  {
   "cell_type": "markdown",
   "metadata": {},
   "source": [
    "## Defined of Ring\n",
    "\n",
    "Ring is a set $R$ equipped with two binary operations $+$ and $\\times$. The difference between ring and field is that ring does not require the existence of multiplicative inverse for all non-zero elements.\n",
    "\n",
    "A **field** is a **ring** in which the multiplication is **commutative** and in which every nonzero element has a **reciprocal** in that ring, so the rationals form a field, but the integers don’t."
   ]
  },
  {
   "cell_type": "markdown",
   "metadata": {},
   "source": [
    "- the integers, called $ZZ$ in Sage.\n",
    "- the rational numbers – i.e., fractions, or ratios, of integers – called $QQ$ in Sage.\n",
    "- the real numbers, called $RR$ in Sage.\n",
    "- the complex numbers, called $CC$ in Sage."
   ]
  },
  {
   "cell_type": "code",
   "execution_count": 1,
   "metadata": {
    "vscode": {
     "languageId": "python"
    }
   },
   "outputs": [
    {
     "name": "stdout",
     "output_type": "stream",
     "text": [
      "True\n",
      "False\n",
      "True\n"
     ]
    }
   ],
   "source": [
    "from sage.all import *\n",
    "\n",
    "print(RealNumber(\"1.2\") in QQ)\n",
    "print(pi in QQ)\n",
    "print(pi in RR)"
   ]
  }
 ],
 "metadata": {
  "kernelspec": {
   "display_name": "SageMath 10.2",
   "language": "sage",
   "name": "sagemath"
  },
  "language_info": {
   "codemirror_mode": {
    "name": "ipython",
    "version": 3
   },
   "file_extension": ".py",
   "mimetype": "text/x-python",
   "name": "sage",
   "nbconvert_exporter": "python",
   "pygments_lexer": "ipython3",
   "version": "3.11.8"
  }
 },
 "nbformat": 4,
 "nbformat_minor": 2
}
