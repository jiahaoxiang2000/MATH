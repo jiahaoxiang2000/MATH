{
 "cells": [
  {
   "cell_type": "markdown",
   "metadata": {},
   "source": [
    "The symmetries actually consist of permutations of the three vertices, where a **permutation** of the set $S = \\set{A,B,C}$ is a one-to-one and onto map $\\pi : S \\to S$. The three vertices have the following six permutations. ($3!$)"
   ]
  },
  {
   "cell_type": "markdown",
   "metadata": {},
   "source": [
    "## 5.1 Definitions and Notation\n",
    "\n",
    "In general, the permutations of a set $X$ form a group $S_X$. If $X$ is a finite set, we can assume $X = \\set{1, 2, \\dots , n}$. In this case we write $S_n$ instead of $S_X$. The following theorem says that $S_n$ is a group. We call this group the **symmetric group** on $n$ letters."
   ]
  },
  {
   "cell_type": "markdown",
   "metadata": {
    "vscode": {
     "languageId": "plaintext"
    }
   },
   "source": [
    "**Theorem 5.1** The symmetric group on $n$ letters, $S_n$, is a group with $n!$ elements, where the binary operation is the composition of maps.\n",
    "\n",
    "A subgroup of $S_n$ is called a **permutation group**."
   ]
  },
  {
   "cell_type": "markdown",
   "metadata": {
    "vscode": {
     "languageId": "plaintext"
    }
   },
   "source": [
    "## Cycle Notation\n",
    "\n",
    "A permutation $\\sigma \\in S_X$ is a **cycle of length** $k$ if there exist elements $a_1, a_2, \\dots , a_k \\in X$ such that\n",
    "$$\n",
    "\\sigma(a_1) = a_2 \\\\\n",
    "\\sigma(a_2) = a_3 \\\\\n",
    "\\vdots \\\\\n",
    "\\sigma(a_k) = a_1 \\\\\n",
    "$$\n",
    "and $\\sigma(x) = x$ for all other elements $x \\in X$. We will write $(a_1, a_2, \\dots , a_k)$ to denote the cycle $\\sigma$. Cycles are the building blocks of all permutations."
   ]
  },
  {
   "cell_type": "markdown",
   "metadata": {
    "vscode": {
     "languageId": "plaintext"
    }
   },
   "source": [
    "Two cycles in $S_X$, $\\sigma = (a_1, a_2, \\dots, a_k)$ and $\\tau = (b_1, b_2, \\dots, b_l)$, are **disjoint** if $a_i \\neq b_j$ for all $i$ and $j$.\n",
    "\n",
    "**Proposition 5.8** Let $\\sigma$ and $\\tau$ be two disjoint cycles in $S_X$. Then $\\sigma \\tau $ = $\\tau \\sigma$.\n",
    "\n",
    "**Theorem 5.9** Every permutation in $S_n$ can be written as the product of disjoint cycles."
   ]
  },
  {
   "cell_type": "markdown",
   "metadata": {
    "vscode": {
     "languageId": "plaintext"
    }
   },
   "source": [
    "### Transpositions\n",
    "\n",
    "The simplest permutation is a cycle of length 2. Such cycles are called **transpositions**. Since\n",
    "$$\n",
    "(a_{1}, a_{2}, \\dots , a_{n}) = (a_{1}, a_{n})(a_{1}, a_{n−1}) \\cdots (a_{1}, a_{3})(a_{1}, a_{2}),\n",
    "$$\n",
    "\n",
    "any cycle can be written as the product of transpositions, leading to the following proposition."
   ]
  }
 ],
 "metadata": {
  "language_info": {
   "name": "python"
  }
 },
 "nbformat": 4,
 "nbformat_minor": 2
}
