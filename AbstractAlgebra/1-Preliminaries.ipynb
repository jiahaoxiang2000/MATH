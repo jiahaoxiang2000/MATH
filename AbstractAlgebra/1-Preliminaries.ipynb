{
 "cells": [
  {
   "cell_type": "markdown",
   "metadata": {},
   "source": [
    "## 1.1 A Short Note on Proofs\n",
    "In studying abstract mathematics, we take what is called an ***axiomatic*** approach; that is, we take a collection of objects $S$ and assume some rules about their structure. These rules are called axioms. Using the axioms for $S$, we wish to derive other information about $S$ by using logical arguments."
   ]
  },
  {
   "cell_type": "markdown",
   "metadata": {
    "vscode": {
     "languageId": "plaintext"
    }
   },
   "source": [
    "A **statement** in logic or mathematics is an assertion that is either true or false. Consider the following examples:\n",
    "- $3 + 56 - 13 + 8/2$. (not a statement)\n",
    "- All cats are black."
   ]
  },
  {
   "cell_type": "markdown",
   "metadata": {
    "vscode": {
     "languageId": "plaintext"
    }
   },
   "source": [
    "A **mathematical proof** is nothing more than a convincing argument about the accuracy\n",
    "of a statement. mathematicians are usually interested in more complex statements such as “If $p$, then $q$,” where $p$ and $q$ are both statements. If certain statements are known or assumed to be true, we wish to know what we can say about other statements. Here $p$ is called the **hypothesis** and $q$ is known as the **conclusion**."
   ]
  },
  {
   "cell_type": "markdown",
   "metadata": {
    "vscode": {
     "languageId": "plaintext"
    }
   },
   "source": [
    "If we can prove a statement true, then that statement is called a **proposition**. A proposition of major importance is called a **theorem**. Sometimes instead of proving a theorem or proposition all at once, we break the proof down into modules; that is, we prove several supporting propositions, which are called **lemmas**, and use the results of these propositions to prove the main result. If we can prove a proposition or a theorem, we will often, with very little effort, be able to derive other related propositions called **corollaries**.\n",
    "\n",
    "> the logic is, theorem is main proposition, lemma is supporting theorem, and corollary is related theorem."
   ]
  },
  {
   "cell_type": "markdown",
   "metadata": {
    "vscode": {
     "languageId": "plaintext"
    }
   },
   "source": [
    "### Some Cautions and Suggestions\n",
    "\n",
    "- A theorem cannot be proved by example; however, the standard way to show that a\n",
    "statement is not a theorem is to provide a counterexample.\n",
    "- Quantifiers are important. Words and phrases such as *only, for all, for every,* and for *some* possess different meanings.\n",
    "- Never assume any hypothesis that is not explicitly stated in the theorem. You cannot\n",
    "take things for granted.\n",
    "- Suppose you wish to show that an object exists and is unique. First show that there\n",
    "actually is such an object. To show that it is unique, assume that there are two such\n",
    "objects, say $r$ and $s$, and then show that $r$ = $s$.\n",
    "- Sometimes it is easier to prove the contrapositive of a statement. Proving the statement “If $p$, then $q$” is exactly the same as proving the statement “If not $q$, then not $p$.”\n",
    "- Although it is usually better to find a direct proof of a theorem, this task can sometimes be difficult. It may be easier to assume that the theorem that you are trying\n",
    "to prove is false, and to hope that in the course of your argument you are forced to\n",
    "make some statement that cannot possibly be true."
   ]
  },
  {
   "cell_type": "markdown",
   "metadata": {
    "vscode": {
     "languageId": "plaintext"
    }
   },
   "source": [
    "## 1.2 Sets and Equivalence Relations\n",
    "### Set Theory\n",
    "\n",
    "A **set** is a well-defined collection of objects; The objects that belong to a set are called its **elements** or **members**.\n",
    "$$\n",
    "\\mathbb{N} = \\set{n : n \\text{ is a natural number} } =\\set{ 1, 2, 3, \\dots};\\\\\n",
    "\\mathbb{Z} = \\set{n : n \\text{ is an integer } } = \\set{\\dots ,-1, 0, 1, 2,\\dots }; \\\\\n",
    "\\mathbb{Q} = \\set{r : r \\text{ is a rational number } } = \\set{p/q : p, q \\in \\mathbb{Z} \\text{ where } q \\neq 0};\\\\\n",
    "\\mathbb{R} = \\set{x : x \\text{ is a real number }}; \\\\\n",
    "\\mathbb{C} = \\set{z : z \\text{ is a complex number }}.\n",
    "$$"
   ]
  },
  {
   "cell_type": "markdown",
   "metadata": {},
   "source": [
    "relations on sets:\n",
    "\n",
    "A set $A$ is a **subset** of $B$, written $A \\subset B$ or $B \\supset  A$, if every element of $A$ is also an element of $B$.\n",
    "\n",
    "$A$ set $B$ is a **proper subset** of a set $A$ if $B \\subset A$ but $B \\neq A$. If $A$ is not a subset of $B$, we write $A \\nsubseteq B$;\n",
    "\n",
    "This set is called the **empty** set and is denoted by $\\empty$;\n"
   ]
  },
  {
   "cell_type": "markdown",
   "metadata": {
    "vscode": {
     "languageId": "plaintext"
    }
   },
   "source": [
    "operations on sets:\n",
    "\n",
    "the **union** $A \\cup B$ of two sets $A$ and $B$ is defined as :\n",
    "$$A\\cup B=\\set{x:x\\in A \\text{ or } x \\in B }$$\n",
    "\n",
    "the **intersection** of $A$ and $B$ is defined by\n",
    "$$A\\cap B=\\set{x:x\\in A \\text{ and } x \\in B }$$\n",
    "\n",
    "$$\\bigcup_{i=1}^nA_i=A_1\\cup \\dots \\cup A_n$$"
   ]
  },
  {
   "cell_type": "markdown",
   "metadata": {},
   "source": [
    "When two sets have no elements in common, they are said to be **disjoint**; for example, if $E$ is the set of even integers and $O$ is the set of odd integers, then $E$ and $O$ are disjoint. Two sets $A$ and $B$ are disjoint exactly when $A \\cap B = \\empty$;."
   ]
  },
  {
   "cell_type": "markdown",
   "metadata": {},
   "source": [
    "Sometimes we will work within one fixed set $U$, called the **universal set**. For any set $A \\sub U$, we define the **complement** of $A$, denoted by $A'$, to be the set\n",
    "$$A'=\\set{x: x\\in U \\text{ and } x \\notin A}$$\n",
    "\n",
    "We define the **difference** of two sets $A$ and $B$ to be\n",
    "\n",
    "$$\n",
    "A\\setminus B=A\\cap B'=\\set{x:x\\in A \\text{ and } x \\notin B}\n",
    "$$"
   ]
  },
  {
   "cell_type": "markdown",
   "metadata": {},
   "source": [
    "**Proposition 1.2** Let $A, B,$ and $C$ be sets. Then\n",
    "1. $A \\cup A = A$, $A \\cap A = A$ and $A \\setminus A = \\empty$;\n",
    "2. $ A \\cup \\empty = A$ and $ A \\cap \\empty = \\empty$;\n",
    "3. $ A \\cup (B \\cup C) = (A \\cup B) \\cup C$ and $ A \\cap (B \\cap C) = (A \\cap B) \\cap C$; Associative laws\n",
    "4. $ A \\cup B = B \\cup A$ and $ A \\cap B = B \\cap A$; Commutative laws\n",
    "5. $ A \\cup (B \\cap C) = (A \\cup B) \\cap (A \\cup C)$ and $ A \\cap (B \\cup C) = (A \\cap B) \\cup (A \\cap C)$; Distributive laws"
   ]
  },
  {
   "cell_type": "markdown",
   "metadata": {},
   "source": [
    "**Theorem 1.3** De Morgan’s Laws. Let $A$ and $B$ be sets. Then\n",
    "1. $(A \\cup B)' = A' \\cap B'$;\n",
    "2. $(A \\cap B)' = A' \\cup B'$."
   ]
  },
  {
   "cell_type": "markdown",
   "metadata": {},
   "source": [
    "### Artesian Products and Mappings\n",
    "\n",
    "Given sets $A$ and $B$, we can define a new set $A\\times B$, called the **Cartesian product** of $A$ and\n",
    "$B$, as a set of ordered pairs. That is,\n",
    "$$ A \\times B = \\set{(a, b) : a \\in A \\text{ and } b \\in B}."
   ]
  },
  {
   "cell_type": "markdown",
   "metadata": {
    "vscode": {
     "languageId": "plaintext"
    }
   },
   "source": [
    "Subsets of $A \\times B$ are called **relations**. We will define a **mapping** or **function** $f \\sub A \\times B$ from a set $A$ to a set $B$ to be the special type of relation where each element $a \\in A$ has\n",
    "a unique element $b \\in B$ such that $(a, b) \\in f$."
   ]
  },
  {
   "cell_type": "markdown",
   "metadata": {
    "vscode": {
     "languageId": "plaintext"
    }
   },
   "source": [
    "We usually write $f : A \\to B$ or $A \\xrightarrow{f} B$.\n",
    "Instead of writing down ordered pairs $(a, b) \\in A \\times B$, we write $f(a) = b$ or $f : a \\mapsto b$. The set $A$ is called the **domain** of $f$ and \n",
    "$$f(A) = \\set{f(a) : a \\in A} \\sub B$$\n",
    "is called the **range** or **image** of $f$."
   ]
  },
  {
   "cell_type": "markdown",
   "metadata": {
    "vscode": {
     "languageId": "plaintext"
    }
   },
   "source": [
    "If $f : A \\to B$ is a map and the image of $f$ is $B$, i.e., $f(A) = B$, then $f$ is said to be **onto** or **surjective**. In other words, if there exists an $a \\in A$ for each $b \\in B$ such that $f(a) = b$, then f is **onto**. A map is **one-to-one** or **injective** if $a_1 \\neq a_2$ implies $f(a_1) \\neq f(a_2)$. Equivalently, a function is one-to-one if $f(a_1) = f(a_2)$ implies $a_1 = a_2$. A map that is both one-to-one and onto is called **bijective**."
   ]
  }
 ],
 "metadata": {
  "kernelspec": {
   "display_name": "SageMath 10.2",
   "language": "sage",
   "name": "sagemath"
  },
  "language_info": {
   "name": "sage"
  }
 },
 "nbformat": 4,
 "nbformat_minor": 2
}
