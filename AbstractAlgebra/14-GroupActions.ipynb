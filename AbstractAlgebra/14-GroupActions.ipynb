{
 "cells": [
  {
   "cell_type": "markdown",
   "metadata": {},
   "source": [
    "Group actions generalize group multiplication. If $G$ is a group and $X$ is an arbitrary set, a group action of an element $g \\in G$ and $x \\in X$ is a product, $gx$, living in $X$."
   ]
  },
  {
   "cell_type": "markdown",
   "metadata": {},
   "source": [
    "### 14.1 Groups Acting on Sets\n",
    "\n",
    "Let $X$ be a set and $G$ be a group. A **(left) action** of $G$ on $X$ is a map $G \\times X \\to X$ given by $(g, x) \\mapsto gx$, where\n",
    "\n",
    "1. $ex = x$ for all $x \\in X$;\n",
    "2. $(g_1g_2)x = g_1(g_2x)$ for all $x \\in X$ and all $g_1, g_2 \\in G$.\n",
    "\n",
    "Under these considerations, $X$ is called a $G$**-set**."
   ]
  },
  {
   "cell_type": "markdown",
   "metadata": {
    "vscode": {
     "languageId": "plaintext"
    }
   },
   "source": [
    "If $G$ acts on a set $X$ and $x, y \\in X$, then $x$ is said to be $G$-equivalent to $y$ if there exists a $g \\in G$ such that $gx = y$. We write $x \\sim_G y$ or $x \\sim y$ if two elements are $G$-equivalent."
   ]
  },
  {
   "cell_type": "markdown",
   "metadata": {},
   "source": [
    "**Proposition 14.6** Let $X$ be a $G$-set. Then $G$-equivalence is an equivalence relation on $X$."
   ]
  },
  {
   "cell_type": "markdown",
   "metadata": {
    "vscode": {
     "languageId": "plaintext"
    }
   },
   "source": [
    "If $X$ is a $G$-set, then each partition of $X$ associated with $G$-equivalence is called an **orbit** of $X$ under $G$. We will denote the orbit that contains an element $x$ of $X$ by $O_x$."
   ]
  },
  {
   "cell_type": "markdown",
   "metadata": {
    "vscode": {
     "languageId": "plaintext"
    }
   },
   "source": [
    "The **fixed point set** of $g$ in $X$, denoted by $X_g$, is the set of all $x \\in X$ such that $gx = x$. We can also study the group elements $g$ that fix a given $x \\in X$. This set is more than a subset of $G$, it is a subgroup. This subgroup is called the **stabilizer subgroup** or isotropy subgroup of $x$. We will denote the stabilizer subgroup of $x$ by $G_x$."
   ]
  }
 ],
 "metadata": {
  "language_info": {
   "name": "python"
  }
 },
 "nbformat": 4,
 "nbformat_minor": 2
}
