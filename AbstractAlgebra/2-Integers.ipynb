{
 "cells": [
  {
   "cell_type": "markdown",
   "metadata": {},
   "source": [
    "## 2.1 Mathematical Induction\n",
    "\n",
    "**Principle 2.1 First Principle of Mathematical Induction.** Let $S(n)$ be a statement about integers for $n \\in \\mathbb{N}$ and suppose $S(n_0)$ is true for some integer $n_0$. If for all integers $k$ with $k \\geq n_0$, $S(k)$ implies that $S(k + 1)$ is true, then $S(n)$ is true for all integers $n$ greater than or equal to $n_0$."
   ]
  },
  {
   "cell_type": "markdown",
   "metadata": {
    "vscode": {
     "languageId": "plaintext"
    }
   },
   "source": [
    "**Principle 2.5 Second Principle of Mathematical Induction**. Let $S(n)$ be a statement\n",
    "about integers for $n \\in \\mathbb{N}$ and suppose $S(n_0)$ is true for some integer $n_0$. If $S(n_0), S(n_0 + 1),\\dots , S(k)$ imply that $S(k +1)$ for $k \\geq n_0$, then the statement $S(n)$ is true for all integers $n \\geq n_0$."
   ]
  },
  {
   "cell_type": "markdown",
   "metadata": {
    "vscode": {
     "languageId": "plaintext"
    }
   },
   "source": [
    "**Principle 2.6 Principle of Well-Ordering.** Every nonempty subset of the natural numbers is well-ordered."
   ]
  },
  {
   "cell_type": "markdown",
   "metadata": {
    "vscode": {
     "languageId": "plaintext"
    }
   },
   "source": [
    "**Lemma 2.7** The Principle of Mathematical Induction implies that 1 is the least positive\n",
    "natural number."
   ]
  },
  {
   "cell_type": "markdown",
   "metadata": {
    "vscode": {
     "languageId": "plaintext"
    }
   },
   "source": [
    "**Theorem 2.8** The Principle of Mathematical Induction implies the Principle of Well-\n",
    "Ordering. That is, every nonempty subset of $\\mathbb{N}$ contains a least element."
   ]
  },
  {
   "cell_type": "markdown",
   "metadata": {},
   "source": [
    "## 2.2 The Division Algorithm\n",
    "\n",
    "**Theorem 2.9 Division Algorithm.** Let $a$ and $b$ be integers, with $b > 0$. Then there exist unique integers $q$ and $r$ such that $a = bq + r$ where $0 \\leq r < b$."
   ]
  },
  {
   "cell_type": "markdown",
   "metadata": {
    "vscode": {
     "languageId": "plaintext"
    }
   },
   "source": [
    "Let $a$ and $b$ be integers. If $b = ak$ for some integer $k$, we write $a \\mid b$. An integer $d$ is called a common divisor of $a$ and $b$ if $d \\mid a$ and $d \\mid b$. The **greatest common divisor** of integers $a$ and $b$ is a positive integer $d$ such that $d$ is a common divisor of $a$ and $b$."
   ]
  },
  {
   "cell_type": "markdown",
   "metadata": {
    "vscode": {
     "languageId": "plaintext"
    }
   },
   "source": [
    "We write $d = gcd(a, b)$; for example, $gcd(24, 36) = 12$ and $gcd(120, 102) = 6$. We say that two integers $a$ and $b$ are **relatively prime** if $gcd(a, b) = 1$."
   ]
  },
  {
   "cell_type": "markdown",
   "metadata": {},
   "source": [
    "**Theorem 2.10** Let $a$ and $b$ be nonzero integers. Then there exist integers $r$ and $s$ such that\n",
    "$$gcd(a, b) = ar + bs.$$\n",
    "Furthermore, the greatest common divisor of $a$ and $b$ is unique.\n",
    "\n",
    "> proof process is interesting."
   ]
  },
  {
   "cell_type": "code",
   "execution_count": 15,
   "metadata": {
    "vscode": {
     "languageId": "python"
    }
   },
   "outputs": [
    {
     "name": "stdout",
     "output_type": "stream",
     "text": [
      "b = 6\n",
      "[(3 - 3*s, s)]\n"
     ]
    }
   ],
   "source": [
    "from sympy import symbols, Eq, solve\n",
    "\n",
    "# Define the symbols\n",
    "a, b, r, s = symbols(\"a b r s\")\n",
    "\n",
    "# Define the equation f\n",
    "f = Eq(a * r + b * s, b)\n",
    "\n",
    "# Substitute the values for a and b\n",
    "f_subs = f.subs({a: 2, b: 6})\n",
    "\n",
    "# Solve the equation for r and s\n",
    "solutions = solve(f_subs, (r, s))\n",
    "\n",
    "# caculate the b\n",
    "print(f\"b = {solutions[0][0] * 2 + solutions[0][1] * 6}\")\n",
    "\n",
    "# Print the solutions\n",
    "print(solutions)"
   ]
  },
  {
   "cell_type": "markdown",
   "metadata": {},
   "source": [
    "**Corollary 2.11** Let $a$ and $b$ be two integers that are relatively prime. Then there exist\n",
    "integers $r$ and $s$ such that $ar + bs = 1$."
   ]
  },
  {
   "cell_type": "markdown",
   "metadata": {},
   "source": [
    "### The Euclidean Algorithm\n",
    "\n",
    "Among other things, Theorem 2.10 allows us to compute the greatest common divisor of two integers."
   ]
  },
  {
   "cell_type": "markdown",
   "metadata": {},
   "source": [
    "### Prime Numbers\n",
    "\n",
    "Let $p$ be an integer such that $p > 1$. We say that $p$ is a **prime number**, or simply $p$ is prime, if the only positive numbers that divide $p$ are $1$ and $p$ itself. An integer $n > 1$ that is not prime is said to be **composite**."
   ]
  },
  {
   "cell_type": "markdown",
   "metadata": {},
   "source": [
    "**Lemma 2.13 Euclid.** Let $a$ and $b$ be integers and $p$ be a prime number. If $p \\mid ab$, then\n",
    "either $p \\mid a$ or $p \\mid b$.\n",
    "\n",
    "**Theorem 2.14 Euclid.** There exist an infinite number of primes."
   ]
  },
  {
   "cell_type": "markdown",
   "metadata": {},
   "source": [
    "**Theorem 2.15 Fundamental Theorem of Arithmetic.** Let $n$ be an integer such that $n > 1$. Then\n",
    "$$n = p_1p_2 \\cdots p_k,$$\n",
    "where $p_1, \\dots , p_k$ are primes (not necessarily distinct). Furthermore, this **factorization is unique**; that is, if \n",
    "$$n = q_1q_2\\cdots q_l,$$\n",
    "then $k = l$ and the $q_i’s$ are just the $p_i’s$ rearranged."
   ]
  },
  {
   "cell_type": "markdown",
   "metadata": {},
   "source": [
    "## 2.5 Programming Exercises"
   ]
  },
  {
   "cell_type": "markdown",
   "metadata": {},
   "source": [
    "Let $\\mathbb{N}^0 = \\mathbb{N} \\cup \\set{0}$. Ackermann’s function is the function A : $ \\mathbb{N}^0 \\times \\mathbb{N}^0 \\to \\mathbb{N}^0$ defined by the equations\n",
    "$$\n",
    "\\begin{align*}\n",
    "A(0, y) &= y + 1,\\\\\n",
    "A(x + 1, 0) &= A(x, 1), \\\\\n",
    "A(x + 1, y + 1) &= A(x,A(x + 1, y)).\n",
    "\\end{align*}\n",
    "$$\n",
    "Use this definition to compute A(3, 1). Write a program to evaluate Ackermann’s function. Modify the program to count the number of statements executed in the program when Ackermann’s function is evaluated. How many statements are executed in the evaluation of A(4, 1)? What about A(5, 1)?"
   ]
  },
  {
   "cell_type": "code",
   "execution_count": 33,
   "metadata": {
    "vscode": {
     "languageId": "python"
    }
   },
   "outputs": [
    {
     "name": "stdout",
     "output_type": "stream",
     "text": [
      "13 106\n"
     ]
    }
   ],
   "source": [
    "count = 0\n",
    "\n",
    "\n",
    "def ackermann(x, y):\n",
    "    global count\n",
    "    count += 1\n",
    "    if x == 0:\n",
    "        return y + 1\n",
    "    elif y == 0:\n",
    "        return ackermann(x - 1, 1)\n",
    "    else:\n",
    "        return ackermann(x - 1, ackermann(x, y - 1))\n",
    "\n",
    "\n",
    "# Compute A(3, 1) count = 106\n",
    "# Compute A(4, 1) stack overflow\n",
    "# Compute A(5, 1) stack overflow\n",
    "result = ackermann(3, 1)\n",
    "\n",
    "print(result, count)"
   ]
  }
 ],
 "metadata": {
  "kernelspec": {
   "display_name": "SageMath 10.2",
   "language": "sage",
   "name": "sagemath"
  },
  "language_info": {
   "codemirror_mode": {
    "name": "ipython",
    "version": 3
   },
   "file_extension": ".py",
   "mimetype": "text/x-python",
   "name": "sage",
   "nbconvert_exporter": "python",
   "pygments_lexer": "ipython3",
   "version": "3.11.8"
  }
 },
 "nbformat": 4,
 "nbformat_minor": 2
}
