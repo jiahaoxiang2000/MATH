{
 "cells": [
  {
   "cell_type": "markdown",
   "metadata": {},
   "source": [
    "In this chapter we will study the properties of cyclic groups and cyclic subgroups, which play a fundamental part in the classification of all abelian groups."
   ]
  },
  {
   "cell_type": "markdown",
   "metadata": {},
   "source": [
    "## 4.1 Cyclic Subgroups\n",
    "\n",
    "**Theorem 4.3** Let $G$ be a group and $a$ be any element in $G$. Then the set \n",
    "$$\n",
    "\\braket{a} = \\set{a^k : k \\in \\mathbb{Z}}\n",
    "$$\n",
    "is a subgroup of $G$. Furthermore, $\\braket{a}$ is the smallest subgroup of $G$ that contains $a$."
   ]
  }
 ],
 "metadata": {
  "kernelspec": {
   "display_name": "SageMath 10.2",
   "language": "sage",
   "name": "sagemath"
  },
  "language_info": {
   "codemirror_mode": {
    "name": "ipython",
    "version": 3
   },
   "file_extension": ".py",
   "mimetype": "text/x-python",
   "name": "python",
   "nbconvert_exporter": "python",
   "pygments_lexer": "ipython3",
   "version": "3.11.8"
  }
 },
 "nbformat": 4,
 "nbformat_minor": 2
}
