{
 "cells": [
  {
   "cell_type": "markdown",
   "metadata": {},
   "source": [
    "In the first part of this chapter, we will examine some of the\n",
    "classical matrix groups, such as the general linear group, the special linear group, and the\n",
    "orthogonal group. We will then use these matrix groups to investigate some of the ideas\n",
    "behind geometric symmetry."
   ]
  },
  {
   "cell_type": "markdown",
   "metadata": {
    "vscode": {
     "languageId": "plaintext"
    }
   },
   "source": [
    "### 12.1 Matrix Groups\n",
    "\n",
    "#### Some Facts from Linear Algebra\n",
    "\n",
    "A linear transformation or linear map $T : \\mathbb{R}^n \\rightarrow \\mathbb{R}^m$ is a map that preserves vector addition and scalar multiplication."
   ]
  },
  {
   "cell_type": "markdown",
   "metadata": {
    "vscode": {
     "languageId": "plaintext"
    }
   },
   "source": [
    "Recall that an $n \\times n$ matrix $A$ is **invertible** exactly when there exists another matrix $A^{-1}$ such that $A A^{-1} = A^{-1} A = I$, where\n",
    "\n",
    "$$\n",
    "I = \\begin{pmatrix}\n",
    "1 & 0 & \\cdots & 0 \\\\\n",
    "0 & 1 & \\cdots & 0 \\\\\n",
    "\\vdots & \\vdots & \\ddots & \\vdots \\\\\n",
    "0 & 0 & \\cdots & 1\n",
    "\\end{pmatrix}\n",
    "$$"
   ]
  },
  {
   "cell_type": "markdown",
   "metadata": {
    "vscode": {
     "languageId": "plaintext"
    }
   },
   "source": [
    "is the $n \\times n$ identity matrix. From linear algebra we know that $A$ is invertible if and only if the determinant of $A$ is nonzero. Sometimes an invertible matrix is said to be **nonsingular**."
   ]
  }
 ],
 "metadata": {
  "language_info": {
   "name": "python"
  }
 },
 "nbformat": 4,
 "nbformat_minor": 2
}
