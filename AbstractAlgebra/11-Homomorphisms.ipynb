{
 "cells": [
  {
   "cell_type": "markdown",
   "metadata": {
    "vscode": {
     "languageId": "plaintext"
    }
   },
   "source": [
    "One of the basic ideas of algebra is the concept of a homomorphism, a natural generalization of an isomorphism. If we relax the requirement that an isomorphism of groups be bijective, we have a homomorphism."
   ]
  },
  {
   "cell_type": "markdown",
   "metadata": {},
   "source": [
    "### 11.1 Group Homomorphisms\n",
    "\n",
    "A **homomorphism** between groups $(G, \\cdot)$ and $(H, \\circ)$ is a map $\\phi : G \\to H$ such that\n",
    "$$\n",
    "\\phi(g_1 \\cdot g_2) = \\phi(g_1) \\circ \\phi(g_2)\n",
    "$$\n",
    "for $g_1, g_2 \\in G$. The range of $\\phi$ in $H$ is called the **homomorphic** image of $\\phi$."
   ]
  },
  {
   "cell_type": "markdown",
   "metadata": {},
   "source": [
    "**Proposition 11.4** Let $\\phi : G_1 \\to G_2$ be a homomorphism of groups. Then\n",
    "1. If $e$ is the identity of $G_1$, then $\\phi(e)$ is the identity of $G_2$;\n",
    "2. For any element $g \\in G_1$, $\\phi(g^{-1}) = [\\phi(g)]^{-1}$;\n",
    "3. If $H_1$ is a subgroup of $G_1$, then $\\phi(H_1)$ is a subgroup of $G_2$;\n",
    "4. If $H_2$ is a subgroup of $G_2$, then $\\phi^{-1}(H_2) = \\{g \\in G_1 : \\phi(g) \\in H_2\\}$ is a subgroup of $G_1$.\n",
    "   Furthermore, if $H_2$ is normal in $G_2$, then $\\phi^{-1}(H_2)$ is normal in $G_1$."
   ]
  },
  {
   "cell_type": "markdown",
   "metadata": {},
   "source": [
    "Let $\\phi : G \\to H$ be a group homomorphism and suppose that $e$ is the identity of $H$. By\n",
    "Proposition 11.4, $\\phi^{-1}(\\{e\\})$ is a subgroup of $G$. This subgroup is called the kernel of $\\phi$ and\n",
    "will be denoted by $\\ker \\phi$."
   ]
  },
  {
   "cell_type": "markdown",
   "metadata": {},
   "source": [
    "**Theorem 11.5** Let $\\phi : G \\to H$ be a group homomorphism. Then the kernel of $\\phi$ is a normal subgroup of $G$."
   ]
  }
 ],
 "metadata": {
  "language_info": {
   "name": "python"
  }
 },
 "nbformat": 4,
 "nbformat_minor": 2
}
