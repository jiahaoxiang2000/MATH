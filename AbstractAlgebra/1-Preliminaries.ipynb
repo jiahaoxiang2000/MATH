{
 "cells": [
  {
   "cell_type": "markdown",
   "metadata": {},
   "source": [
    "## 1.1 A Short Note on Proofs\n",
    "In studying abstract mathematics, we take what is called an ***axiomatic*** approach; that is, we take a collection of objects $S$ and assume some rules about their structure. These rules are called axioms. Using the axioms for $S$, we wish to derive other information about $S$ by using logical arguments."
   ]
  },
  {
   "cell_type": "markdown",
   "metadata": {
    "vscode": {
     "languageId": "plaintext"
    }
   },
   "source": [
    "A **statement** in logic or mathematics is an assertion that is either true or false. Consider the following examples:\n",
    "- $3 + 56 - 13 + 8/2$. (not a statement)\n",
    "- All cats are black."
   ]
  },
  {
   "cell_type": "markdown",
   "metadata": {
    "vscode": {
     "languageId": "plaintext"
    }
   },
   "source": [
    "A **mathematical proof** is nothing more than a convincing argument about the accuracy\n",
    "of a statement. mathematicians are usually interested in more complex statements such as “If $p$, then $q$,” where $p$ and $q$ are both statements. If certain statements are known or assumed to be true, we wish to know what we can say about other statements. Here $p$ is called the **hypothesis** and $q$ is known as the **conclusion**."
   ]
  },
  {
   "cell_type": "markdown",
   "metadata": {
    "vscode": {
     "languageId": "plaintext"
    }
   },
   "source": [
    "If we can prove a statement true, then that statement is called a **proposition**. A proposition of major importance is called a **theorem**. Sometimes instead of proving a theorem or proposition all at once, we break the proof down into modules; that is, we prove several supporting propositions, which are called **lemmas**, and use the results of these propositions to prove the main result. If we can prove a proposition or a theorem, we will often, with very little effort, be able to derive other related propositions called **corollaries**.\n",
    "\n",
    "> the logic is, theorem is main proposition, lemma is supporting theorem, and corollary is related theorem."
   ]
  },
  {
   "cell_type": "markdown",
   "metadata": {
    "vscode": {
     "languageId": "plaintext"
    }
   },
   "source": [
    "### Some Cautions and Suggestions\n",
    "\n",
    "- A theorem cannot be proved by example; however, the standard way to show that a\n",
    "statement is not a theorem is to provide a counterexample.\n",
    "- Quantifiers are important. Words and phrases such as *only, for all, for every,* and for *some* possess different meanings.\n",
    "- Never assume any hypothesis that is not explicitly stated in the theorem. You cannot\n",
    "take things for granted.\n",
    "- Suppose you wish to show that an object exists and is unique. First show that there\n",
    "actually is such an object. To show that it is unique, assume that there are two such\n",
    "objects, say $r$ and $s$, and then show that $r$ = $s$.\n",
    "- Sometimes it is easier to prove the contrapositive of a statement. Proving the statement “If $p$, then $q$” is exactly the same as proving the statement “If not $q$, then not $p$.”\n",
    "- Although it is usually better to find a direct proof of a theorem, this task can sometimes be difficult. It may be easier to assume that the theorem that you are trying\n",
    "to prove is false, and to hope that in the course of your argument you are forced to\n",
    "make some statement that cannot possibly be true."
   ]
  },
  {
   "cell_type": "markdown",
   "metadata": {
    "vscode": {
     "languageId": "plaintext"
    }
   },
   "source": [
    "## 1.2 Sets and Equivalence Relations\n",
    "### Set Theory\n",
    "\n",
    "A **set** is a well-defined collection of objects; The objects that belong to a set are called its **elements** or **members**.\n",
    "$$\n",
    "\\mathbb{N} = \\set{n : n \\text{ is a natural number} } =\\set{ 1, 2, 3, \\dots};\\\\\n",
    "Z = fn : n is an integerg = f. . . ,􀀀1, 0, 1, 2, . . .g;\n",
    "Q = fr : r is a rational numberg = fp/q : p, q 2 Z where q 6= 0g;\n",
    "R = fx : x is a real numberg;\n",
    "C = fz : z is a complex numberg.\n",
    "$$"
   ]
  }
 ],
 "metadata": {
  "kernelspec": {
   "display_name": "SageMath 10.2",
   "language": "sage",
   "name": "sagemath"
  },
  "language_info": {
   "name": "sage"
  }
 },
 "nbformat": 4,
 "nbformat_minor": 2
}
