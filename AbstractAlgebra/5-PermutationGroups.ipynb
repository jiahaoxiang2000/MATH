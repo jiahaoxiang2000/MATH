{
 "cells": [
  {
   "cell_type": "markdown",
   "metadata": {},
   "source": [
    "The symmetries actually consist of permutations of the three vertices, where a **permutation** of the set $S = \\set{A,B,C}$ is a one-to-one and onto map $\\pi : S \\to S$. The three vertices have the following six permutations. ($3!$)"
   ]
  },
  {
   "cell_type": "markdown",
   "metadata": {},
   "source": [
    "## 5.1 Definitions and Notation\n",
    "\n",
    "In general, the permutations of a set $X$ form a group $S_X$. If $X$ is a finite set, we can assume $X = \\set{1, 2, \\dots , n}$. In this case we write $S_n$ instead of $S_X$. The following theorem says that $S_n$ is a group. We call this group the **symmetric group** on $n$ letters."
   ]
  },
  {
   "cell_type": "markdown",
   "metadata": {
    "vscode": {
     "languageId": "plaintext"
    }
   },
   "source": [
    "**Theorem 5.1** The symmetric group on $n$ letters, $S_n$, is a group with $n!$ elements, where the binary operation is the composition of maps.\n",
    "\n",
    "A subgroup of $S_n$ is called a **permutation group**."
   ]
  },
  {
   "cell_type": "markdown",
   "metadata": {
    "vscode": {
     "languageId": "plaintext"
    }
   },
   "source": [
    "## Cycle Notation\n",
    "\n",
    "A permutation $\\sigma \\in S_X$ is a **cycle of length** $k$ if there exist elements $a_1, a_2, \\dots , a_k \\in X$ such that\n",
    "$$\n",
    "\\sigma(a_1) = a_2 \\\\\n",
    "\\sigma(a_2) = a_3 \\\\\n",
    "\\vdots \\\\\n",
    "\\sigma(a_k) = a_1 \\\\\n",
    "$$\n",
    "and $\\sigma(x) = x$ for all other elements $x \\in X$. We will write $(a_1, a_2, \\dots , a_k)$ to denote the cycle $\\sigma$. Cycles are the building blocks of all permutations."
   ]
  },
  {
   "cell_type": "markdown",
   "metadata": {
    "vscode": {
     "languageId": "plaintext"
    }
   },
   "source": [
    "Two cycles in $S_X$, $\\sigma = (a_1, a_2, \\dots, a_k)$ and $\\tau = (b_1, b_2, \\dots, b_l)$, are **disjoint** if $a_i \\neq b_j$ for all $i$ and $j$.\n",
    "\n",
    "**Proposition 5.8** Let $\\sigma$ and $\\tau$ be two disjoint cycles in $S_X$. Then $\\sigma \\tau $ = $\\tau \\sigma$.\n",
    "\n",
    "**Theorem 5.9** Every permutation in $S_n$ can be written as the product of disjoint cycles."
   ]
  },
  {
   "cell_type": "markdown",
   "metadata": {
    "vscode": {
     "languageId": "plaintext"
    }
   },
   "source": [
    "### Transpositions\n",
    "\n",
    "The simplest permutation is a cycle of length 2. Such cycles are called **transpositions**. Since\n",
    "$$\n",
    "(a_{1}, a_{2}, \\dots , a_{n}) = (a_{1}, a_{n})(a_{1}, a_{n−1}) \\cdots (a_{1}, a_{3})(a_{1}, a_{2}),\n",
    "$$\n",
    "\n",
    "any cycle can be written as the product of transpositions, leading to the following proposition."
   ]
  },
  {
   "cell_type": "markdown",
   "metadata": {},
   "source": [
    "**Proposition 5.12** Any permutation of a finite set containing at least two elements can be written as the product of transpositions.\n",
    "\n",
    "**Lemma 5.14** If the identity is written as the product of $r$ transpositions, \n",
    "$$\n",
    "id = \\tau_1\\tau_2 \\cdots \\tau_r, \n",
    "$$\n",
    "then $r$ is an even number."
   ]
  },
  {
   "cell_type": "markdown",
   "metadata": {},
   "source": [
    "**Theorem 5.15** If a permutation $\\sigma$ can be expressed as the product of an even number of transpositions, then any other product of transpositions equaling $\\sigma$ must also contain an even number of transpositions. Similarly, if $\\sigma$ can be expressed as the product of an odd number of transpositions, then any other product of transpositions equaling $\\sigma$ must also contain an odd number of transpositions."
   ]
  },
  {
   "cell_type": "markdown",
   "metadata": {
    "vscode": {
     "languageId": "plaintext"
    }
   },
   "source": [
    "In light of **Theorem 5.15**, we define a permutation to be **even** if it can be expressed\n",
    "as an even number of transpositions and **odd** if it can be expressed as an odd number of transpositions."
   ]
  },
  {
   "cell_type": "markdown",
   "metadata": {},
   "source": [
    "### The Alternating Groups\n",
    "\n",
    "One of the most important subgroups of $S_n$ is the set of all even permutations, $A_n$. The group $A_n$ is called the **alternating group on $n$ letters**.\n",
    "\n",
    "**Theorem 5.16** The set $A_n$ is a subgroup of $S_n$.\n",
    "\n"
   ]
  },
  {
   "cell_type": "markdown",
   "metadata": {
    "vscode": {
     "languageId": "plaintext"
    }
   },
   "source": [
    "**Proposition 5.17** The number of even permutations in $S_n, n \\geq 2$, is equal to the number of odd permutations; hence, the order of $A_n$ is $n!/2$."
   ]
  },
  {
   "cell_type": "markdown",
   "metadata": {
    "vscode": {
     "languageId": "plaintext"
    }
   },
   "source": [
    "## 5.2 Dihedral Groups\n",
    "\n",
    "we define the nth **dihedral group** to be the group of rigid motions of a regular $n$-gon.\n",
    "\n",
    "**Theorem 5.20** The dihedral group, $D_n$, is a subgroup of $S_n$ of order $2n$.\n",
    "\n",
    "**Theorem 5.21** The group $D_n, n \\geq 3$, consists of all products of the two elements $r$ and $s$, where $r$ has order $n$ and $s$ has order $2$, and these two elements satisfy the relation $srs = r^{−1}$."
   ]
  },
  {
   "cell_type": "markdown",
   "metadata": {},
   "source": [
    "### The Motion Group of a Cube\n",
    "\n",
    "**Proposition 5.26** The group of rigid motions of a cube contains 24 elements.\n",
    "\n",
    "**Theorem 5.27** The group of rigid motions of a cube is $S_4$."
   ]
  }
 ],
 "metadata": {
  "language_info": {
   "name": "python"
  }
 },
 "nbformat": 4,
 "nbformat_minor": 2
}
